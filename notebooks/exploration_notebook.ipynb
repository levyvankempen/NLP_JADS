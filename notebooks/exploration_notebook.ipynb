{
 "cells": [
  {
   "cell_type": "code",
   "execution_count": 1,
   "outputs": [],
   "source": [
    "import pandas as pd\n",
    "import numpy as np"
   ],
   "metadata": {
    "collapsed": false,
    "pycharm": {
     "name": "#%%\n"
    }
   }
  },
  {
   "cell_type": "code",
   "execution_count": 2,
   "outputs": [],
   "source": [
    "from nltk.tokenize import word_tokenize\n",
    "from gensim.models import Word2Vec\n",
    "from typing import List\n",
    "\n",
    "import re\n",
    "import time"
   ],
   "metadata": {
    "collapsed": false,
    "pycharm": {
     "name": "#%%\n"
    }
   }
  },
  {
   "cell_type": "markdown",
   "source": [
    "### We are using this notebook to explore the articles with descriptive statistics and other general information"
   ],
   "metadata": {
    "collapsed": false,
    "pycharm": {
     "name": "#%% md\n"
    }
   }
  },
  {
   "cell_type": "code",
   "execution_count": 3,
   "outputs": [],
   "source": [
    "# import the articles csv\n",
    "articles = pd.read_csv('../data/us_equities_news_dataset.csv')"
   ],
   "metadata": {
    "collapsed": false,
    "pycharm": {
     "name": "#%%\n"
    }
   }
  },
  {
   "cell_type": "code",
   "execution_count": 4,
   "outputs": [
    {
     "data": {
      "text/plain": "            id ticker                                              title  \\\n0       221515    NIO  Why Shares of Chinese Electric Car Maker NIO A...   \n1       221516    NIO  NIO only consumer gainer  Workhorse Group amon...   \n2       221517    NIO  NIO leads consumer gainers  Beyond Meat and Ma...   \n3       221518    NIO                  NIO  NVAX among premarket gainers   \n4       221519    NIO                  PLUG  NIO among premarket gainers   \n...        ...    ...                                                ...   \n221508  443024      T                     Crude And Steel Still In Sync    \n221509  443025      T  Forget AT T  This Is The Telecom Stock You Sho...   \n221510  443026      T  Wall Street Exposed   Part 3   How Dividends C...   \n221511  443027      T       Weighing The Week Ahead  It s All About Jobs   \n221512  443028      T  Leap Wireless  LEAP    JPM Note and AT T   T M...   \n\n       category                                            content  \\\n0          news  What s happening\\nShares of Chinese electric c...   \n1          news  Gainers  NIO  NYSE NIO   7  \\nLosers  MGP Ingr...   \n2          news  Gainers  NIO  NYSE NIO   14   Village Farms In...   \n3          news  Cemtrex  NASDAQ CETX   85  after FY results \\n...   \n4          news  aTyr Pharma  NASDAQ LIFE   63  on Kyorin Pharm...   \n...         ...                                                ...   \n221508  opinion  We have been reporting on the trade off betwee...   \n221509  opinion  It s the largest cell phone provider in the wo...   \n221510  opinion  Before we dicuss how the mechanism of dividend...   \n221511  opinion  From start to finish  the coming week will hav...   \n221512  opinion  Leap Wireless International  Inc   Leap  is a ...   \n\n       release_date         provider  \\\n0        2020-01-15  The Motley Fool   \n1        2020-01-18    Seeking Alpha   \n2        2020-01-15    Seeking Alpha   \n3        2020-01-15    Seeking Alpha   \n4        2020-01-06    Seeking Alpha   \n...             ...              ...   \n221508   2012-10-04       Ivan Kitov   \n221509   2012-05-30  StreetAuthority   \n221510   2012-07-16   Portfolio Cafe   \n221511   2012-09-02      Jeff Miller   \n221512   2011-12-31   Ophir Gottlieb   \n\n                                                      url  article_id  \n0                                  https://invst.ly/pigqi     2060327  \n1                                  https://invst.ly/pje9c     2062196  \n2                                  https://invst.ly/pifmv     2060249  \n3                                  https://invst.ly/picu8     2060039  \n4       https://seekingalpha.com/news/3529772-plug-nio...     2053096  \n...                                                   ...         ...  \n221508  https://www.investing.com/analysis/crude-and-s...      138733  \n221509  https://www.investing.com/analysis/forget-at-t...      124829  \n221510  https://www.investing.com/analysis/wall-street...      129651  \n221511  https://www.investing.com/analysis/weighing-th...      134926  \n221512  https://www.investing.com/analysis/leap-wirele...      110079  \n\n[221513 rows x 9 columns]",
      "text/html": "<div>\n<style scoped>\n    .dataframe tbody tr th:only-of-type {\n        vertical-align: middle;\n    }\n\n    .dataframe tbody tr th {\n        vertical-align: top;\n    }\n\n    .dataframe thead th {\n        text-align: right;\n    }\n</style>\n<table border=\"1\" class=\"dataframe\">\n  <thead>\n    <tr style=\"text-align: right;\">\n      <th></th>\n      <th>id</th>\n      <th>ticker</th>\n      <th>title</th>\n      <th>category</th>\n      <th>content</th>\n      <th>release_date</th>\n      <th>provider</th>\n      <th>url</th>\n      <th>article_id</th>\n    </tr>\n  </thead>\n  <tbody>\n    <tr>\n      <th>0</th>\n      <td>221515</td>\n      <td>NIO</td>\n      <td>Why Shares of Chinese Electric Car Maker NIO A...</td>\n      <td>news</td>\n      <td>What s happening\\nShares of Chinese electric c...</td>\n      <td>2020-01-15</td>\n      <td>The Motley Fool</td>\n      <td>https://invst.ly/pigqi</td>\n      <td>2060327</td>\n    </tr>\n    <tr>\n      <th>1</th>\n      <td>221516</td>\n      <td>NIO</td>\n      <td>NIO only consumer gainer  Workhorse Group amon...</td>\n      <td>news</td>\n      <td>Gainers  NIO  NYSE NIO   7  \\nLosers  MGP Ingr...</td>\n      <td>2020-01-18</td>\n      <td>Seeking Alpha</td>\n      <td>https://invst.ly/pje9c</td>\n      <td>2062196</td>\n    </tr>\n    <tr>\n      <th>2</th>\n      <td>221517</td>\n      <td>NIO</td>\n      <td>NIO leads consumer gainers  Beyond Meat and Ma...</td>\n      <td>news</td>\n      <td>Gainers  NIO  NYSE NIO   14   Village Farms In...</td>\n      <td>2020-01-15</td>\n      <td>Seeking Alpha</td>\n      <td>https://invst.ly/pifmv</td>\n      <td>2060249</td>\n    </tr>\n    <tr>\n      <th>3</th>\n      <td>221518</td>\n      <td>NIO</td>\n      <td>NIO  NVAX among premarket gainers</td>\n      <td>news</td>\n      <td>Cemtrex  NASDAQ CETX   85  after FY results \\n...</td>\n      <td>2020-01-15</td>\n      <td>Seeking Alpha</td>\n      <td>https://invst.ly/picu8</td>\n      <td>2060039</td>\n    </tr>\n    <tr>\n      <th>4</th>\n      <td>221519</td>\n      <td>NIO</td>\n      <td>PLUG  NIO among premarket gainers</td>\n      <td>news</td>\n      <td>aTyr Pharma  NASDAQ LIFE   63  on Kyorin Pharm...</td>\n      <td>2020-01-06</td>\n      <td>Seeking Alpha</td>\n      <td>https://seekingalpha.com/news/3529772-plug-nio...</td>\n      <td>2053096</td>\n    </tr>\n    <tr>\n      <th>...</th>\n      <td>...</td>\n      <td>...</td>\n      <td>...</td>\n      <td>...</td>\n      <td>...</td>\n      <td>...</td>\n      <td>...</td>\n      <td>...</td>\n      <td>...</td>\n    </tr>\n    <tr>\n      <th>221508</th>\n      <td>443024</td>\n      <td>T</td>\n      <td>Crude And Steel Still In Sync</td>\n      <td>opinion</td>\n      <td>We have been reporting on the trade off betwee...</td>\n      <td>2012-10-04</td>\n      <td>Ivan Kitov</td>\n      <td>https://www.investing.com/analysis/crude-and-s...</td>\n      <td>138733</td>\n    </tr>\n    <tr>\n      <th>221509</th>\n      <td>443025</td>\n      <td>T</td>\n      <td>Forget AT T  This Is The Telecom Stock You Sho...</td>\n      <td>opinion</td>\n      <td>It s the largest cell phone provider in the wo...</td>\n      <td>2012-05-30</td>\n      <td>StreetAuthority</td>\n      <td>https://www.investing.com/analysis/forget-at-t...</td>\n      <td>124829</td>\n    </tr>\n    <tr>\n      <th>221510</th>\n      <td>443026</td>\n      <td>T</td>\n      <td>Wall Street Exposed   Part 3   How Dividends C...</td>\n      <td>opinion</td>\n      <td>Before we dicuss how the mechanism of dividend...</td>\n      <td>2012-07-16</td>\n      <td>Portfolio Cafe</td>\n      <td>https://www.investing.com/analysis/wall-street...</td>\n      <td>129651</td>\n    </tr>\n    <tr>\n      <th>221511</th>\n      <td>443027</td>\n      <td>T</td>\n      <td>Weighing The Week Ahead  It s All About Jobs</td>\n      <td>opinion</td>\n      <td>From start to finish  the coming week will hav...</td>\n      <td>2012-09-02</td>\n      <td>Jeff Miller</td>\n      <td>https://www.investing.com/analysis/weighing-th...</td>\n      <td>134926</td>\n    </tr>\n    <tr>\n      <th>221512</th>\n      <td>443028</td>\n      <td>T</td>\n      <td>Leap Wireless  LEAP    JPM Note and AT T   T M...</td>\n      <td>opinion</td>\n      <td>Leap Wireless International  Inc   Leap  is a ...</td>\n      <td>2011-12-31</td>\n      <td>Ophir Gottlieb</td>\n      <td>https://www.investing.com/analysis/leap-wirele...</td>\n      <td>110079</td>\n    </tr>\n  </tbody>\n</table>\n<p>221513 rows × 9 columns</p>\n</div>"
     },
     "execution_count": 4,
     "metadata": {},
     "output_type": "execute_result"
    }
   ],
   "source": [
    "articles"
   ],
   "metadata": {
    "collapsed": false,
    "pycharm": {
     "name": "#%%\n"
    }
   }
  },
  {
   "cell_type": "code",
   "execution_count": 5,
   "outputs": [
    {
     "data": {
      "text/plain": "str"
     },
     "execution_count": 5,
     "metadata": {},
     "output_type": "execute_result"
    }
   ],
   "source": [
    "type(articles['content'].loc[0])"
   ],
   "metadata": {
    "collapsed": false,
    "pycharm": {
     "name": "#%%\n"
    }
   }
  },
  {
   "cell_type": "code",
   "execution_count": 6,
   "outputs": [
    {
     "data": {
      "text/plain": "8"
     },
     "execution_count": 6,
     "metadata": {},
     "output_type": "execute_result"
    }
   ],
   "source": [
    "articles['content'].isnull().sum()"
   ],
   "metadata": {
    "collapsed": false,
    "pycharm": {
     "name": "#%%\n"
    }
   }
  },
  {
   "cell_type": "markdown",
   "source": [
    "### Descriptive Statistics\n",
    "\n",
    "221.513 (rows) articles. Every article entry has 9 columns, being uniquely identified with an id and the article's content in the content column. Moreover, there is a release_data column that can be used to differentiate between when the article was posted\n",
    "\n",
    "release_date still has to be transformed to datetime, as it originally is of object Dtype\n",
    "\n",
    "Missing values: There are 8 entries in the content column which have missing values, we drop these"
   ],
   "metadata": {
    "collapsed": false,
    "pycharm": {
     "name": "#%% md\n"
    }
   }
  },
  {
   "cell_type": "code",
   "execution_count": 7,
   "outputs": [],
   "source": [
    "articles = articles[articles['content'].notna()]"
   ],
   "metadata": {
    "collapsed": false,
    "pycharm": {
     "name": "#%%\n"
    }
   }
  },
  {
   "cell_type": "code",
   "execution_count": 8,
   "outputs": [
    {
     "data": {
      "text/plain": "0"
     },
     "execution_count": 8,
     "metadata": {},
     "output_type": "execute_result"
    }
   ],
   "source": [
    "articles['content'].isnull().sum()"
   ],
   "metadata": {
    "collapsed": false,
    "pycharm": {
     "name": "#%%\n"
    }
   }
  },
  {
   "cell_type": "markdown",
   "source": [
    "Check. No more missing entries in the content column."
   ],
   "metadata": {
    "collapsed": false,
    "pycharm": {
     "name": "#%% md\n"
    }
   }
  },
  {
   "cell_type": "markdown",
   "source": [
    "### Related Articles\n",
    "\n",
    "How many of the articles contain something related to Apple? (or APPL)"
   ],
   "metadata": {
    "collapsed": false,
    "pycharm": {
     "name": "#%% md\n"
    }
   }
  },
  {
   "cell_type": "code",
   "execution_count": 10,
   "outputs": [],
   "source": [
    "def preprocess_dataframe_content(df: pd.DataFrame) -> List[List[str]]:\n",
    "    \"\"\"\n",
    "    Preprocesses each entry in the 'content' column of the given DataFrame by lowercasing,\n",
    "    keeping only alphabetic characters, and filtering out words with length less than 3.\n",
    "    Tokenizes the preprocessed entry into a list of words.\n",
    "    Returns a list of lists where each inner list is a tokenized and preprocessed entry from the\n",
    "    'content' column of the DataFrame.\n",
    "\n",
    "    Parameters:\n",
    "    - df (pd.DataFrame): The DataFrame containing the 'content' column to be processed.\n",
    "\n",
    "    Returns:\n",
    "    - list: A list of lists, where each inner list is a tokenized and preprocessed entry from the\n",
    "    'content' column of the DataFrame.\n",
    "    \"\"\"\n",
    "    return [\n",
    "        [word for word in re.sub('[^a-zA-Z\\s]', '', content.lower().strip()).split() if len(word) >= 3]\n",
    "        for content in df['content']\n",
    "    ]"
   ],
   "metadata": {
    "collapsed": false,
    "pycharm": {
     "name": "#%%\n"
    }
   }
  },
  {
   "cell_type": "code",
   "execution_count": 11,
   "outputs": [],
   "source": [
    "processed_content = preprocess_dataframe_content(articles)"
   ],
   "metadata": {
    "collapsed": false,
    "pycharm": {
     "name": "#%%\n"
    }
   }
  },
  {
   "cell_type": "code",
   "execution_count": 12,
   "outputs": [
    {
     "name": "stdout",
     "output_type": "stream",
     "text": [
      "Training took: 265.1552131175995 seconds \n"
     ]
    }
   ],
   "source": [
    "start_time = time.time()\n",
    "apple_cbow_model = Word2Vec(\n",
    "    sentences=processed_content,\n",
    "    vector_size=500,\n",
    "    window=5,\n",
    "    min_count=1,\n",
    "    sg=0,\n",
    "    workers=8,\n",
    ")\n",
    "end_time = time.time()\n",
    "elapsed_time = end_time - start_time\n",
    "print(f'Training took: {elapsed_time} seconds ')"
   ],
   "metadata": {
    "collapsed": false,
    "pycharm": {
     "name": "#%%\n"
    }
   }
  },
  {
   "cell_type": "code",
   "execution_count": 13,
   "outputs": [],
   "source": [
    "# saving the model, so we do not have to train it anymore\n",
    "apple_cbow_model.save(\"../model/apple_cbow_model\")"
   ],
   "metadata": {
    "collapsed": false,
    "pycharm": {
     "name": "#%%\n"
    }
   }
  },
  {
   "cell_type": "code",
   "execution_count": 14,
   "outputs": [],
   "source": [
    "def filter_related_articles(processed_content: List[List[str]], articles_df: pd.DataFrame, model: Word2Vec, keywords: list, threshold: float = 0.5):\n",
    "    \"\"\"\n",
    "    Filters articles related to the provided keywords based on cosine similarity\n",
    "    between the articles and the keywords using a trained Word2Vec model.\n",
    "\n",
    "    Parameters:\n",
    "    - articles_df (pd.DataFrame): DataFrame containing the articles.\n",
    "    - model (Word2Vec): Trained Word2Vec model.\n",
    "    - keywords (list): List of keywords related to the topic of interest.\n",
    "    - threshold (float): Cosine similarity threshold to consider an article as related.\n",
    "\n",
    "    Returns:\n",
    "    - pd.DataFrame: DataFrame containing the related articles.\n",
    "    \"\"\"\n",
    "    # Preprocess the content column of the DataFrame.\n",
    "    processed_content = processed_content\n",
    "\n",
    "    # Calculate the vector representation for each keyword.\n",
    "    keywords_vectors = [model.wv[keyword] for keyword in keywords if keyword in model.wv.index_to_key]\n",
    "\n",
    "    # If no keyword is in the model's vocabulary, return an empty DataFrame.\n",
    "    if not keywords_vectors:\n",
    "        return pd.DataFrame(columns=articles_df.columns)\n",
    "\n",
    "    # Calculate the average vector for keywords.\n",
    "    average_keyword_vector = np.mean(keywords_vectors, axis=0)\n",
    "\n",
    "    # Initialize a list to store the indices of the related articles.\n",
    "    related_indices = []\n",
    "\n",
    "    for index, article in enumerate(processed_content):\n",
    "        # Get the vectors of the words in the article that are in the model's vocabulary.\n",
    "        article_vectors = [model.wv[word] for word in article if word in model.wv.index_to_key]\n",
    "\n",
    "        # Skip articles with no words in the model's vocabulary.\n",
    "        if not article_vectors:\n",
    "            continue\n",
    "\n",
    "        # Calculate the average vector for the article.\n",
    "        average_article_vector = np.mean(article_vectors, axis=0)\n",
    "\n",
    "        # Calculate the cosine similarity between the article and the keywords.\n",
    "        cosine_similarity = np.dot(average_keyword_vector, average_article_vector) / (np.linalg.norm(average_keyword_vector) * np.linalg.norm(average_article_vector))\n",
    "\n",
    "        # If the similarity is above the threshold, store the index of the article.\n",
    "        if cosine_similarity > threshold:\n",
    "            related_indices.append(index)\n",
    "\n",
    "    # Return a DataFrame containing only the related articles.\n",
    "    return articles_df.iloc[related_indices]\n",
    "\n",
    "# Usage:\n",
    "keywords = ['apple', 'AAPL', 'iphone']\n",
    "model = apple_cbow_model\n",
    "related_articles_df = filter_related_articles(processed_content, articles, model, keywords, threshold=0.5)\n"
   ],
   "metadata": {
    "collapsed": false,
    "pycharm": {
     "name": "#%%\n"
    }
   }
  },
  {
   "cell_type": "code",
   "execution_count": null,
   "outputs": [],
   "source": [],
   "metadata": {
    "collapsed": false,
    "pycharm": {
     "name": "#%%\n"
    }
   }
  }
 ],
 "metadata": {
  "kernelspec": {
   "display_name": "Python 3",
   "language": "python",
   "name": "python3"
  },
  "language_info": {
   "codemirror_mode": {
    "name": "ipython",
    "version": 2
   },
   "file_extension": ".py",
   "mimetype": "text/x-python",
   "name": "python",
   "nbconvert_exporter": "python",
   "pygments_lexer": "ipython2",
   "version": "2.7.6"
  }
 },
 "nbformat": 4,
 "nbformat_minor": 0
}