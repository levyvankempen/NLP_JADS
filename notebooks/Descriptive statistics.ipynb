{
 "cells": [
  {
   "cell_type": "code",
   "execution_count": 2,
   "outputs": [],
   "source": [
    "import nltk\n",
    "import sklearn\n",
    "import pandas as pd\n",
    "import gensim\n",
    "import FuzzyTM\n",
    "import re"
   ],
   "metadata": {
    "collapsed": false,
    "pycharm": {
     "name": "#%%\n"
    }
   }
  },
  {
   "cell_type": "code",
   "execution_count": 3,
   "outputs": [
    {
     "data": {
      "text/plain": "            id ticker                                              title  \\\n0       221515    NIO  Why Shares of Chinese Electric Car Maker NIO A...   \n1       221516    NIO  NIO only consumer gainer  Workhorse Group amon...   \n2       221517    NIO  NIO leads consumer gainers  Beyond Meat and Ma...   \n3       221518    NIO                  NIO  NVAX among premarket gainers   \n4       221519    NIO                  PLUG  NIO among premarket gainers   \n...        ...    ...                                                ...   \n221508  443024      T                     Crude And Steel Still In Sync    \n221509  443025      T  Forget AT T  This Is The Telecom Stock You Sho...   \n221510  443026      T  Wall Street Exposed   Part 3   How Dividends C...   \n221511  443027      T       Weighing The Week Ahead  It s All About Jobs   \n221512  443028      T  Leap Wireless  LEAP    JPM Note and AT T   T M...   \n\n       category                                            content  \\\n0          news  What s happening\\nShares of Chinese electric c...   \n1          news  Gainers  NIO  NYSE NIO   7  \\nLosers  MGP Ingr...   \n2          news  Gainers  NIO  NYSE NIO   14   Village Farms In...   \n3          news  Cemtrex  NASDAQ CETX   85  after FY results \\n...   \n4          news  aTyr Pharma  NASDAQ LIFE   63  on Kyorin Pharm...   \n...         ...                                                ...   \n221508  opinion  We have been reporting on the trade off betwee...   \n221509  opinion  It s the largest cell phone provider in the wo...   \n221510  opinion  Before we dicuss how the mechanism of dividend...   \n221511  opinion  From start to finish  the coming week will hav...   \n221512  opinion  Leap Wireless International  Inc   Leap  is a ...   \n\n       release_date         provider  \\\n0        2020-01-15  The Motley Fool   \n1        2020-01-18    Seeking Alpha   \n2        2020-01-15    Seeking Alpha   \n3        2020-01-15    Seeking Alpha   \n4        2020-01-06    Seeking Alpha   \n...             ...              ...   \n221508   2012-10-04       Ivan Kitov   \n221509   2012-05-30  StreetAuthority   \n221510   2012-07-16   Portfolio Cafe   \n221511   2012-09-02      Jeff Miller   \n221512   2011-12-31   Ophir Gottlieb   \n\n                                                      url  article_id  \n0                                  https://invst.ly/pigqi     2060327  \n1                                  https://invst.ly/pje9c     2062196  \n2                                  https://invst.ly/pifmv     2060249  \n3                                  https://invst.ly/picu8     2060039  \n4       https://seekingalpha.com/news/3529772-plug-nio...     2053096  \n...                                                   ...         ...  \n221508  https://www.investing.com/analysis/crude-and-s...      138733  \n221509  https://www.investing.com/analysis/forget-at-t...      124829  \n221510  https://www.investing.com/analysis/wall-street...      129651  \n221511  https://www.investing.com/analysis/weighing-th...      134926  \n221512  https://www.investing.com/analysis/leap-wirele...      110079  \n\n[221505 rows x 9 columns]",
      "text/html": "<div>\n<style scoped>\n    .dataframe tbody tr th:only-of-type {\n        vertical-align: middle;\n    }\n\n    .dataframe tbody tr th {\n        vertical-align: top;\n    }\n\n    .dataframe thead th {\n        text-align: right;\n    }\n</style>\n<table border=\"1\" class=\"dataframe\">\n  <thead>\n    <tr style=\"text-align: right;\">\n      <th></th>\n      <th>id</th>\n      <th>ticker</th>\n      <th>title</th>\n      <th>category</th>\n      <th>content</th>\n      <th>release_date</th>\n      <th>provider</th>\n      <th>url</th>\n      <th>article_id</th>\n    </tr>\n  </thead>\n  <tbody>\n    <tr>\n      <th>0</th>\n      <td>221515</td>\n      <td>NIO</td>\n      <td>Why Shares of Chinese Electric Car Maker NIO A...</td>\n      <td>news</td>\n      <td>What s happening\\nShares of Chinese electric c...</td>\n      <td>2020-01-15</td>\n      <td>The Motley Fool</td>\n      <td>https://invst.ly/pigqi</td>\n      <td>2060327</td>\n    </tr>\n    <tr>\n      <th>1</th>\n      <td>221516</td>\n      <td>NIO</td>\n      <td>NIO only consumer gainer  Workhorse Group amon...</td>\n      <td>news</td>\n      <td>Gainers  NIO  NYSE NIO   7  \\nLosers  MGP Ingr...</td>\n      <td>2020-01-18</td>\n      <td>Seeking Alpha</td>\n      <td>https://invst.ly/pje9c</td>\n      <td>2062196</td>\n    </tr>\n    <tr>\n      <th>2</th>\n      <td>221517</td>\n      <td>NIO</td>\n      <td>NIO leads consumer gainers  Beyond Meat and Ma...</td>\n      <td>news</td>\n      <td>Gainers  NIO  NYSE NIO   14   Village Farms In...</td>\n      <td>2020-01-15</td>\n      <td>Seeking Alpha</td>\n      <td>https://invst.ly/pifmv</td>\n      <td>2060249</td>\n    </tr>\n    <tr>\n      <th>3</th>\n      <td>221518</td>\n      <td>NIO</td>\n      <td>NIO  NVAX among premarket gainers</td>\n      <td>news</td>\n      <td>Cemtrex  NASDAQ CETX   85  after FY results \\n...</td>\n      <td>2020-01-15</td>\n      <td>Seeking Alpha</td>\n      <td>https://invst.ly/picu8</td>\n      <td>2060039</td>\n    </tr>\n    <tr>\n      <th>4</th>\n      <td>221519</td>\n      <td>NIO</td>\n      <td>PLUG  NIO among premarket gainers</td>\n      <td>news</td>\n      <td>aTyr Pharma  NASDAQ LIFE   63  on Kyorin Pharm...</td>\n      <td>2020-01-06</td>\n      <td>Seeking Alpha</td>\n      <td>https://seekingalpha.com/news/3529772-plug-nio...</td>\n      <td>2053096</td>\n    </tr>\n    <tr>\n      <th>...</th>\n      <td>...</td>\n      <td>...</td>\n      <td>...</td>\n      <td>...</td>\n      <td>...</td>\n      <td>...</td>\n      <td>...</td>\n      <td>...</td>\n      <td>...</td>\n    </tr>\n    <tr>\n      <th>221508</th>\n      <td>443024</td>\n      <td>T</td>\n      <td>Crude And Steel Still In Sync</td>\n      <td>opinion</td>\n      <td>We have been reporting on the trade off betwee...</td>\n      <td>2012-10-04</td>\n      <td>Ivan Kitov</td>\n      <td>https://www.investing.com/analysis/crude-and-s...</td>\n      <td>138733</td>\n    </tr>\n    <tr>\n      <th>221509</th>\n      <td>443025</td>\n      <td>T</td>\n      <td>Forget AT T  This Is The Telecom Stock You Sho...</td>\n      <td>opinion</td>\n      <td>It s the largest cell phone provider in the wo...</td>\n      <td>2012-05-30</td>\n      <td>StreetAuthority</td>\n      <td>https://www.investing.com/analysis/forget-at-t...</td>\n      <td>124829</td>\n    </tr>\n    <tr>\n      <th>221510</th>\n      <td>443026</td>\n      <td>T</td>\n      <td>Wall Street Exposed   Part 3   How Dividends C...</td>\n      <td>opinion</td>\n      <td>Before we dicuss how the mechanism of dividend...</td>\n      <td>2012-07-16</td>\n      <td>Portfolio Cafe</td>\n      <td>https://www.investing.com/analysis/wall-street...</td>\n      <td>129651</td>\n    </tr>\n    <tr>\n      <th>221511</th>\n      <td>443027</td>\n      <td>T</td>\n      <td>Weighing The Week Ahead  It s All About Jobs</td>\n      <td>opinion</td>\n      <td>From start to finish  the coming week will hav...</td>\n      <td>2012-09-02</td>\n      <td>Jeff Miller</td>\n      <td>https://www.investing.com/analysis/weighing-th...</td>\n      <td>134926</td>\n    </tr>\n    <tr>\n      <th>221512</th>\n      <td>443028</td>\n      <td>T</td>\n      <td>Leap Wireless  LEAP    JPM Note and AT T   T M...</td>\n      <td>opinion</td>\n      <td>Leap Wireless International  Inc   Leap  is a ...</td>\n      <td>2011-12-31</td>\n      <td>Ophir Gottlieb</td>\n      <td>https://www.investing.com/analysis/leap-wirele...</td>\n      <td>110079</td>\n    </tr>\n  </tbody>\n</table>\n<p>221505 rows × 9 columns</p>\n</div>"
     },
     "execution_count": 3,
     "metadata": {},
     "output_type": "execute_result"
    }
   ],
   "source": [
    "articles = pd.read_csv('../data/us_equities_news_dataset.csv')\n",
    "articles = articles[articles['content'].notna()]\n",
    "articles"
   ],
   "metadata": {
    "collapsed": false,
    "pycharm": {
     "name": "#%%\n"
    }
   }
  },
  {
   "cell_type": "markdown",
   "source": [
    "# Descriptive statistics\n",
    "- How many documents\n",
    "- How many words\n",
    "- How much lexical variation in the texts\n",
    "- Average sentence length\n",
    "- Average document length\n",
    "- 100 most common words\n",
    "- 20 most indicative words per class\n",
    "- Dispersion plot"
   ],
   "metadata": {
    "collapsed": false,
    "pycharm": {
     "name": "#%% md\n"
    }
   }
  },
  {
   "cell_type": "code",
   "execution_count": 4,
   "outputs": [],
   "source": [
    "#number of documents\n",
    "nr_of_docu = articles['id'].nunique()"
   ],
   "metadata": {
    "collapsed": false,
    "pycharm": {
     "name": "#%%\n"
    }
   }
  },
  {
   "cell_type": "code",
   "execution_count": 5,
   "outputs": [],
   "source": [
    "# Count words in each row\n",
    "articles['word_count'] = articles['content'].apply(lambda x: len(x.split()))\n",
    "\n",
    "#Sum the number of words of each row\n",
    "total_word_count = articles['word_count'].sum()"
   ],
   "metadata": {
    "collapsed": false,
    "pycharm": {
     "name": "#%%\n"
    }
   }
  },
  {
   "cell_type": "code",
   "execution_count": 6,
   "outputs": [],
   "source": [
    "# Combine all text from the 'content' column into a single string\n",
    "combined_text = ' '.join(articles['content'])"
   ],
   "metadata": {
    "collapsed": false,
    "pycharm": {
     "name": "#%%\n"
    }
   }
  },
  {
   "cell_type": "code",
   "execution_count": 7,
   "outputs": [],
   "source": [
    "#Create a set of the words, these are the unique words (these are split since it gives a memory error)\n",
    "\n",
    "unique_words = set()\n",
    "\n",
    "# Tokenize and count unique words in smaller chunks\n",
    "chunk_size = 1000  # Adjust this value based on your available memory and DataFrame size\n",
    "\n",
    "for i in range(0, len(articles), chunk_size):\n",
    "    chunk = articles.loc[i:i+chunk_size-1]  # Get a chunk of the DataFrame\n",
    "    combined_text = ' '.join(chunk['content'])  # Combine text from the chunk\n",
    "    chunk_words = combined_text.split()  # Tokenize the chunk\n",
    "    unique_words.update(chunk_words)  # Add unique words to the set\n",
    "\n",
    "# Count the total number of unique words\n",
    "unique_word_count = len(unique_words)"
   ],
   "metadata": {
    "collapsed": false,
    "pycharm": {
     "name": "#%%\n"
    }
   }
  },
  {
   "cell_type": "code",
   "execution_count": 8,
   "outputs": [],
   "source": [
    "lexical_variation = unique_word_count/total_word_count"
   ],
   "metadata": {
    "collapsed": false,
    "pycharm": {
     "name": "#%%\n"
    }
   }
  },
  {
   "cell_type": "code",
   "execution_count": 9,
   "outputs": [
    {
     "name": "stdout",
     "output_type": "stream",
     "text": [
      "Number of documents: 221505\n",
      "Total number of words: 131445300\n",
      "Number unique tokens: 400076\n",
      "Lexical variation:  0.0030436691155940913\n"
     ]
    }
   ],
   "source": [],
   "metadata": {
    "collapsed": false,
    "pycharm": {
     "name": "#%%\n"
    }
   }
  },
  {
   "cell_type": "code",
   "execution_count": 10,
   "outputs": [],
   "source": [
    "#Average document length\n",
    "avg_doc_length = total_word_count/nr_of_docu"
   ],
   "metadata": {
    "collapsed": false,
    "pycharm": {
     "name": "#%%\n"
    }
   }
  },
  {
   "cell_type": "code",
   "execution_count": 12,
   "outputs": [],
   "source": [
    "def count_sentences(text):\n",
    "    sentences = re.split(r'[\\n]+|[ ]{2,}(?=[A-Z][a-z])', text)\n",
    "    return len(sentences)\n",
    "\n",
    "# Apply the count_sentences function to the 'content' column and save the counts in a new column\n",
    "articles['sentence_count'] = articles['content'].apply(count_sentences)"
   ],
   "metadata": {
    "collapsed": false,
    "pycharm": {
     "name": "#%%\n"
    }
   }
  },
  {
   "cell_type": "code",
   "execution_count": 21,
   "outputs": [],
   "source": [
    "nr_of_sentences = articles['sentence_count'].sum()\n",
    "avg_sentence_length = total_word_count/nr_of_sentences"
   ],
   "metadata": {
    "collapsed": false,
    "pycharm": {
     "name": "#%%\n"
    }
   }
  },
  {
   "cell_type": "code",
   "execution_count": 22,
   "outputs": [],
   "source": [
    "avg_doc_length_sentence = nr_of_sentences/nr_of_docu"
   ],
   "metadata": {
    "collapsed": false,
    "pycharm": {
     "name": "#%%\n"
    }
   }
  },
  {
   "cell_type": "code",
   "execution_count": 29,
   "outputs": [
    {
     "name": "stdout",
     "output_type": "stream",
     "text": [
      "Number of documents: 221505\n",
      "Total number of words: 131445300\n",
      "Number unique words: 400076\n",
      "Lexical variation:  0.00304\n",
      "Average sentence length is  17.5 Words\n",
      "Average document length  593.42 Words\n",
      "Average document length  33.9 Sentences\n"
     ]
    }
   ],
   "source": [
    "print(\"Number of documents:\", nr_of_docu)\n",
    "print(\"Total number of words:\", total_word_count)\n",
    "print(\"Number unique words:\", unique_word_count)\n",
    "print(\"Lexical variation: \", round(lexical_variation, 5))\n",
    "print(\"Average sentence length is \", round(avg_sentence_length,2), \"Words\")\n",
    "print(\"Average document length \", round(avg_doc_length,2), \"Words\")\n",
    "print(\"Average document length \", round(avg_doc_length_sentence,2), \"Sentences\")"
   ],
   "metadata": {
    "collapsed": false,
    "pycharm": {
     "name": "#%%\n"
    }
   }
  },
  {
   "cell_type": "code",
   "execution_count": null,
   "outputs": [],
   "source": [],
   "metadata": {
    "collapsed": false,
    "pycharm": {
     "name": "#%%\n"
    }
   }
  }
 ],
 "metadata": {
  "kernelspec": {
   "display_name": "Python 3",
   "language": "python",
   "name": "python3"
  },
  "language_info": {
   "codemirror_mode": {
    "name": "ipython",
    "version": 2
   },
   "file_extension": ".py",
   "mimetype": "text/x-python",
   "name": "python",
   "nbconvert_exporter": "python",
   "pygments_lexer": "ipython2",
   "version": "2.7.6"
  }
 },
 "nbformat": 4,
 "nbformat_minor": 0
}