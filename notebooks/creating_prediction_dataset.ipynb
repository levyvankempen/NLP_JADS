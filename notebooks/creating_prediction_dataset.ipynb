{
 "cells": [
  {
   "cell_type": "code",
   "execution_count": 15,
   "id": "32a3861b",
   "metadata": {
    "pycharm": {
     "name": "#%%\n"
    },
    "ExecuteTime": {
     "end_time": "2023-10-19T16:57:45.426737800Z",
     "start_time": "2023-10-19T16:57:45.411251400Z"
    }
   },
   "outputs": [],
   "source": [
    "import pandas as pd"
   ]
  },
  {
   "cell_type": "code",
   "execution_count": 16,
   "id": "3634cb1e",
   "metadata": {
    "pycharm": {
     "name": "#%%\n"
    },
    "ExecuteTime": {
     "end_time": "2023-10-19T16:57:51.908622100Z",
     "start_time": "2023-10-19T16:57:47.036243100Z"
    }
   },
   "outputs": [
    {
     "data": {
      "text/plain": "            id ticker                                              title  \\\n0       221515    NIO  Why Shares of Chinese Electric Car Maker NIO A...   \n1       221516    NIO  NIO only consumer gainer  Workhorse Group amon...   \n2       221517    NIO  NIO leads consumer gainers  Beyond Meat and Ma...   \n3       221518    NIO                  NIO  NVAX among premarket gainers   \n4       221519    NIO                  PLUG  NIO among premarket gainers   \n...        ...    ...                                                ...   \n221500  443024      T                     Crude And Steel Still In Sync    \n221501  443025      T  Forget AT T  This Is The Telecom Stock You Sho...   \n221502  443026      T  Wall Street Exposed   Part 3   How Dividends C...   \n221503  443027      T       Weighing The Week Ahead  It s All About Jobs   \n221504  443028      T  Leap Wireless  LEAP    JPM Note and AT T   T M...   \n\n       category                                            content  \\\n0          news  happening share chinese electric car maker nio...   \n1          news  gainer nio nyse nio loser mgp ingredient nasda...   \n2          news  gainer nio nyse nio village farm international...   \n3          news  cemtrex nasdaq cetx result fluent nasdaq flnt ...   \n4          news  atyr pharma nasdaq life kyorin pharma deal tow...   \n...         ...                                                ...   \n221500  opinion  reporting trade producer price index crude oil...   \n221501  opinion  largest cell phone provider world customer nys...   \n221502  opinion  dicuss mechanism dividend keep stock extension...   \n221503  opinion  start finish coming week heightened focus empl...   \n221504  opinion  leap wireless international inc leap wireless ...   \n\n       release_date         provider  \\\n0        2020-01-15  The Motley Fool   \n1        2020-01-18    Seeking Alpha   \n2        2020-01-15    Seeking Alpha   \n3        2020-01-15    Seeking Alpha   \n4        2020-01-06    Seeking Alpha   \n...             ...              ...   \n221500   2012-10-04       Ivan Kitov   \n221501   2012-05-30  StreetAuthority   \n221502   2012-07-16   Portfolio Cafe   \n221503   2012-09-02      Jeff Miller   \n221504   2011-12-31   Ophir Gottlieb   \n\n                                                      url  article_id  \n0                                  https://invst.ly/pigqi     2060327  \n1                                  https://invst.ly/pje9c     2062196  \n2                                  https://invst.ly/pifmv     2060249  \n3                                  https://invst.ly/picu8     2060039  \n4       https://seekingalpha.com/news/3529772-plug-nio...     2053096  \n...                                                   ...         ...  \n221500  https://www.investing.com/analysis/crude-and-s...      138733  \n221501  https://www.investing.com/analysis/forget-at-t...      124829  \n221502  https://www.investing.com/analysis/wall-street...      129651  \n221503  https://www.investing.com/analysis/weighing-th...      134926  \n221504  https://www.investing.com/analysis/leap-wirele...      110079  \n\n[221505 rows x 9 columns]",
      "text/html": "<div>\n<style scoped>\n    .dataframe tbody tr th:only-of-type {\n        vertical-align: middle;\n    }\n\n    .dataframe tbody tr th {\n        vertical-align: top;\n    }\n\n    .dataframe thead th {\n        text-align: right;\n    }\n</style>\n<table border=\"1\" class=\"dataframe\">\n  <thead>\n    <tr style=\"text-align: right;\">\n      <th></th>\n      <th>id</th>\n      <th>ticker</th>\n      <th>title</th>\n      <th>category</th>\n      <th>content</th>\n      <th>release_date</th>\n      <th>provider</th>\n      <th>url</th>\n      <th>article_id</th>\n    </tr>\n  </thead>\n  <tbody>\n    <tr>\n      <th>0</th>\n      <td>221515</td>\n      <td>NIO</td>\n      <td>Why Shares of Chinese Electric Car Maker NIO A...</td>\n      <td>news</td>\n      <td>happening share chinese electric car maker nio...</td>\n      <td>2020-01-15</td>\n      <td>The Motley Fool</td>\n      <td>https://invst.ly/pigqi</td>\n      <td>2060327</td>\n    </tr>\n    <tr>\n      <th>1</th>\n      <td>221516</td>\n      <td>NIO</td>\n      <td>NIO only consumer gainer  Workhorse Group amon...</td>\n      <td>news</td>\n      <td>gainer nio nyse nio loser mgp ingredient nasda...</td>\n      <td>2020-01-18</td>\n      <td>Seeking Alpha</td>\n      <td>https://invst.ly/pje9c</td>\n      <td>2062196</td>\n    </tr>\n    <tr>\n      <th>2</th>\n      <td>221517</td>\n      <td>NIO</td>\n      <td>NIO leads consumer gainers  Beyond Meat and Ma...</td>\n      <td>news</td>\n      <td>gainer nio nyse nio village farm international...</td>\n      <td>2020-01-15</td>\n      <td>Seeking Alpha</td>\n      <td>https://invst.ly/pifmv</td>\n      <td>2060249</td>\n    </tr>\n    <tr>\n      <th>3</th>\n      <td>221518</td>\n      <td>NIO</td>\n      <td>NIO  NVAX among premarket gainers</td>\n      <td>news</td>\n      <td>cemtrex nasdaq cetx result fluent nasdaq flnt ...</td>\n      <td>2020-01-15</td>\n      <td>Seeking Alpha</td>\n      <td>https://invst.ly/picu8</td>\n      <td>2060039</td>\n    </tr>\n    <tr>\n      <th>4</th>\n      <td>221519</td>\n      <td>NIO</td>\n      <td>PLUG  NIO among premarket gainers</td>\n      <td>news</td>\n      <td>atyr pharma nasdaq life kyorin pharma deal tow...</td>\n      <td>2020-01-06</td>\n      <td>Seeking Alpha</td>\n      <td>https://seekingalpha.com/news/3529772-plug-nio...</td>\n      <td>2053096</td>\n    </tr>\n    <tr>\n      <th>...</th>\n      <td>...</td>\n      <td>...</td>\n      <td>...</td>\n      <td>...</td>\n      <td>...</td>\n      <td>...</td>\n      <td>...</td>\n      <td>...</td>\n      <td>...</td>\n    </tr>\n    <tr>\n      <th>221500</th>\n      <td>443024</td>\n      <td>T</td>\n      <td>Crude And Steel Still In Sync</td>\n      <td>opinion</td>\n      <td>reporting trade producer price index crude oil...</td>\n      <td>2012-10-04</td>\n      <td>Ivan Kitov</td>\n      <td>https://www.investing.com/analysis/crude-and-s...</td>\n      <td>138733</td>\n    </tr>\n    <tr>\n      <th>221501</th>\n      <td>443025</td>\n      <td>T</td>\n      <td>Forget AT T  This Is The Telecom Stock You Sho...</td>\n      <td>opinion</td>\n      <td>largest cell phone provider world customer nys...</td>\n      <td>2012-05-30</td>\n      <td>StreetAuthority</td>\n      <td>https://www.investing.com/analysis/forget-at-t...</td>\n      <td>124829</td>\n    </tr>\n    <tr>\n      <th>221502</th>\n      <td>443026</td>\n      <td>T</td>\n      <td>Wall Street Exposed   Part 3   How Dividends C...</td>\n      <td>opinion</td>\n      <td>dicuss mechanism dividend keep stock extension...</td>\n      <td>2012-07-16</td>\n      <td>Portfolio Cafe</td>\n      <td>https://www.investing.com/analysis/wall-street...</td>\n      <td>129651</td>\n    </tr>\n    <tr>\n      <th>221503</th>\n      <td>443027</td>\n      <td>T</td>\n      <td>Weighing The Week Ahead  It s All About Jobs</td>\n      <td>opinion</td>\n      <td>start finish coming week heightened focus empl...</td>\n      <td>2012-09-02</td>\n      <td>Jeff Miller</td>\n      <td>https://www.investing.com/analysis/weighing-th...</td>\n      <td>134926</td>\n    </tr>\n    <tr>\n      <th>221504</th>\n      <td>443028</td>\n      <td>T</td>\n      <td>Leap Wireless  LEAP    JPM Note and AT T   T M...</td>\n      <td>opinion</td>\n      <td>leap wireless international inc leap wireless ...</td>\n      <td>2011-12-31</td>\n      <td>Ophir Gottlieb</td>\n      <td>https://www.investing.com/analysis/leap-wirele...</td>\n      <td>110079</td>\n    </tr>\n  </tbody>\n</table>\n<p>221505 rows × 9 columns</p>\n</div>"
     },
     "execution_count": 16,
     "metadata": {},
     "output_type": "execute_result"
    }
   ],
   "source": [
    "preprocessed = pd.read_csv('../data/preprocessed_article_data.csv')\n",
    "preprocessed"
   ]
  },
  {
   "cell_type": "code",
   "execution_count": 17,
   "id": "6d992604",
   "metadata": {
    "pycharm": {
     "name": "#%%\n"
    },
    "ExecuteTime": {
     "end_time": "2023-10-19T16:57:55.003308900Z",
     "start_time": "2023-10-19T16:57:54.971509Z"
    }
   },
   "outputs": [
    {
     "data": {
      "text/plain": "            Date        Open        High         Low       Close   Adj Close  \\\n0     2009-01-15    2.877500    3.004286    2.858929    2.977857    2.542589   \n1     2009-01-16    3.010714    3.013571    2.871429    2.940357    2.510570   \n2     2009-01-20    2.926071    2.928571    2.792857    2.792857    2.384630   \n3     2009-01-21    2.835357    2.960000    2.832500    2.958214    2.525818   \n4     2009-01-22    3.144286    3.214286    3.065000    3.155714    2.694449   \n...          ...         ...         ...         ...         ...         ...   \n3435  2022-09-08  154.639999  156.360001  152.679993  154.460007  154.460007   \n3436  2022-09-09  155.470001  157.820007  154.750000  157.369995  157.369995   \n3437  2022-09-12  159.589996  164.259995  159.300003  163.429993  163.429993   \n3438  2022-09-13  159.899994  160.539993  153.369995  153.839996  153.839996   \n3439  2022-09-14  154.789993  157.100006  153.610001  155.309998  155.309998   \n\n          Volume  \n0     1831634000  \n1     1047625600  \n2      919914800  \n3     1089270000  \n4     1409528400  \n...          ...  \n3435    84923800  \n3436    68028800  \n3437   104956000  \n3438   122656600  \n3439    87850600  \n\n[3440 rows x 7 columns]",
      "text/html": "<div>\n<style scoped>\n    .dataframe tbody tr th:only-of-type {\n        vertical-align: middle;\n    }\n\n    .dataframe tbody tr th {\n        vertical-align: top;\n    }\n\n    .dataframe thead th {\n        text-align: right;\n    }\n</style>\n<table border=\"1\" class=\"dataframe\">\n  <thead>\n    <tr style=\"text-align: right;\">\n      <th></th>\n      <th>Date</th>\n      <th>Open</th>\n      <th>High</th>\n      <th>Low</th>\n      <th>Close</th>\n      <th>Adj Close</th>\n      <th>Volume</th>\n    </tr>\n  </thead>\n  <tbody>\n    <tr>\n      <th>0</th>\n      <td>2009-01-15</td>\n      <td>2.877500</td>\n      <td>3.004286</td>\n      <td>2.858929</td>\n      <td>2.977857</td>\n      <td>2.542589</td>\n      <td>1831634000</td>\n    </tr>\n    <tr>\n      <th>1</th>\n      <td>2009-01-16</td>\n      <td>3.010714</td>\n      <td>3.013571</td>\n      <td>2.871429</td>\n      <td>2.940357</td>\n      <td>2.510570</td>\n      <td>1047625600</td>\n    </tr>\n    <tr>\n      <th>2</th>\n      <td>2009-01-20</td>\n      <td>2.926071</td>\n      <td>2.928571</td>\n      <td>2.792857</td>\n      <td>2.792857</td>\n      <td>2.384630</td>\n      <td>919914800</td>\n    </tr>\n    <tr>\n      <th>3</th>\n      <td>2009-01-21</td>\n      <td>2.835357</td>\n      <td>2.960000</td>\n      <td>2.832500</td>\n      <td>2.958214</td>\n      <td>2.525818</td>\n      <td>1089270000</td>\n    </tr>\n    <tr>\n      <th>4</th>\n      <td>2009-01-22</td>\n      <td>3.144286</td>\n      <td>3.214286</td>\n      <td>3.065000</td>\n      <td>3.155714</td>\n      <td>2.694449</td>\n      <td>1409528400</td>\n    </tr>\n    <tr>\n      <th>...</th>\n      <td>...</td>\n      <td>...</td>\n      <td>...</td>\n      <td>...</td>\n      <td>...</td>\n      <td>...</td>\n      <td>...</td>\n    </tr>\n    <tr>\n      <th>3435</th>\n      <td>2022-09-08</td>\n      <td>154.639999</td>\n      <td>156.360001</td>\n      <td>152.679993</td>\n      <td>154.460007</td>\n      <td>154.460007</td>\n      <td>84923800</td>\n    </tr>\n    <tr>\n      <th>3436</th>\n      <td>2022-09-09</td>\n      <td>155.470001</td>\n      <td>157.820007</td>\n      <td>154.750000</td>\n      <td>157.369995</td>\n      <td>157.369995</td>\n      <td>68028800</td>\n    </tr>\n    <tr>\n      <th>3437</th>\n      <td>2022-09-12</td>\n      <td>159.589996</td>\n      <td>164.259995</td>\n      <td>159.300003</td>\n      <td>163.429993</td>\n      <td>163.429993</td>\n      <td>104956000</td>\n    </tr>\n    <tr>\n      <th>3438</th>\n      <td>2022-09-13</td>\n      <td>159.899994</td>\n      <td>160.539993</td>\n      <td>153.369995</td>\n      <td>153.839996</td>\n      <td>153.839996</td>\n      <td>122656600</td>\n    </tr>\n    <tr>\n      <th>3439</th>\n      <td>2022-09-14</td>\n      <td>154.789993</td>\n      <td>157.100006</td>\n      <td>153.610001</td>\n      <td>155.309998</td>\n      <td>155.309998</td>\n      <td>87850600</td>\n    </tr>\n  </tbody>\n</table>\n<p>3440 rows × 7 columns</p>\n</div>"
     },
     "execution_count": 17,
     "metadata": {},
     "output_type": "execute_result"
    }
   ],
   "source": [
    "AAPL = pd.read_csv('../data/AAPL.csv')\n",
    "AAPL"
   ]
  },
  {
   "cell_type": "markdown",
   "id": "8b20c08f",
   "metadata": {
    "pycharm": {
     "name": "#%% md\n"
    }
   },
   "source": [
    "# Check data types and change dates to DateTime"
   ]
  },
  {
   "cell_type": "code",
   "execution_count": 18,
   "id": "c278530c",
   "metadata": {
    "pycharm": {
     "name": "#%%\n"
    },
    "ExecuteTime": {
     "end_time": "2023-10-19T16:57:57.876659400Z",
     "start_time": "2023-10-19T16:57:57.845236800Z"
    }
   },
   "outputs": [
    {
     "data": {
      "text/plain": "(dtype('O'), dtype('O'))"
     },
     "execution_count": 18,
     "metadata": {},
     "output_type": "execute_result"
    }
   ],
   "source": [
    "AAPL['Date'].dtype, preprocessed['release_date'].dtypes"
   ]
  },
  {
   "cell_type": "code",
   "execution_count": 19,
   "id": "96a04a48",
   "metadata": {
    "pycharm": {
     "name": "#%%\n"
    },
    "ExecuteTime": {
     "end_time": "2023-10-19T16:57:59.497163800Z",
     "start_time": "2023-10-19T16:57:59.446729Z"
    }
   },
   "outputs": [
    {
     "data": {
      "text/plain": "(dtype('<M8[ns]'), dtype('<M8[ns]'))"
     },
     "execution_count": 19,
     "metadata": {},
     "output_type": "execute_result"
    }
   ],
   "source": [
    "AAPL['Date'] = pd.to_datetime(AAPL['Date'])\n",
    "preprocessed['release_date'] = pd.to_datetime(preprocessed['release_date'])\n",
    "AAPL['Date'].dtypes, preprocessed['release_date'].dtype"
   ]
  },
  {
   "cell_type": "markdown",
   "id": "7045089e",
   "metadata": {
    "pycharm": {
     "name": "#%% md\n"
    }
   },
   "source": [
    "# Fix the AAPL dataset\n",
    "The AAPL dataset contains not all days in the given range, so it misses some stock data that thus cannot be matched with articles. To include as many articles as possible, only the weekends will be removed (consecutive days with no data). Furthermore, it is assumed that for random missing weekdays that are no weekends, the opening price is the closing price of the previous day and the closing price is the opening price of the next day."
   ]
  },
  {
   "cell_type": "markdown",
   "id": "73e7d78d",
   "metadata": {
    "pycharm": {
     "name": "#%% md\n"
    }
   },
   "source": [
    "First add all dates to the dataset for the given time range"
   ]
  },
  {
   "cell_type": "code",
   "execution_count": 20,
   "id": "67a0abdd",
   "metadata": {
    "pycharm": {
     "name": "#%%\n"
    },
    "ExecuteTime": {
     "end_time": "2023-10-19T16:58:01.559704100Z",
     "start_time": "2023-10-19T16:58:01.532030700Z"
    }
   },
   "outputs": [
    {
     "data": {
      "text/plain": "           Date        Open        High         Low       Close   Adj Close  \\\n0    2009-01-15    2.877500    3.004286    2.858929    2.977857    2.542589   \n1    2009-01-16    3.010714    3.013571    2.871429    2.940357    2.510570   \n2    2009-01-17         NaN         NaN         NaN         NaN         NaN   \n3    2009-01-18         NaN         NaN         NaN         NaN         NaN   \n4    2009-01-19         NaN         NaN         NaN         NaN         NaN   \n...         ...         ...         ...         ...         ...         ...   \n4986 2022-09-10         NaN         NaN         NaN         NaN         NaN   \n4987 2022-09-11         NaN         NaN         NaN         NaN         NaN   \n4988 2022-09-12  159.589996  164.259995  159.300003  163.429993  163.429993   \n4989 2022-09-13  159.899994  160.539993  153.369995  153.839996  153.839996   \n4990 2022-09-14  154.789993  157.100006  153.610001  155.309998  155.309998   \n\n            Volume  \n0     1.831634e+09  \n1     1.047626e+09  \n2              NaN  \n3              NaN  \n4              NaN  \n...            ...  \n4986           NaN  \n4987           NaN  \n4988  1.049560e+08  \n4989  1.226566e+08  \n4990  8.785060e+07  \n\n[4991 rows x 7 columns]",
      "text/html": "<div>\n<style scoped>\n    .dataframe tbody tr th:only-of-type {\n        vertical-align: middle;\n    }\n\n    .dataframe tbody tr th {\n        vertical-align: top;\n    }\n\n    .dataframe thead th {\n        text-align: right;\n    }\n</style>\n<table border=\"1\" class=\"dataframe\">\n  <thead>\n    <tr style=\"text-align: right;\">\n      <th></th>\n      <th>Date</th>\n      <th>Open</th>\n      <th>High</th>\n      <th>Low</th>\n      <th>Close</th>\n      <th>Adj Close</th>\n      <th>Volume</th>\n    </tr>\n  </thead>\n  <tbody>\n    <tr>\n      <th>0</th>\n      <td>2009-01-15</td>\n      <td>2.877500</td>\n      <td>3.004286</td>\n      <td>2.858929</td>\n      <td>2.977857</td>\n      <td>2.542589</td>\n      <td>1.831634e+09</td>\n    </tr>\n    <tr>\n      <th>1</th>\n      <td>2009-01-16</td>\n      <td>3.010714</td>\n      <td>3.013571</td>\n      <td>2.871429</td>\n      <td>2.940357</td>\n      <td>2.510570</td>\n      <td>1.047626e+09</td>\n    </tr>\n    <tr>\n      <th>2</th>\n      <td>2009-01-17</td>\n      <td>NaN</td>\n      <td>NaN</td>\n      <td>NaN</td>\n      <td>NaN</td>\n      <td>NaN</td>\n      <td>NaN</td>\n    </tr>\n    <tr>\n      <th>3</th>\n      <td>2009-01-18</td>\n      <td>NaN</td>\n      <td>NaN</td>\n      <td>NaN</td>\n      <td>NaN</td>\n      <td>NaN</td>\n      <td>NaN</td>\n    </tr>\n    <tr>\n      <th>4</th>\n      <td>2009-01-19</td>\n      <td>NaN</td>\n      <td>NaN</td>\n      <td>NaN</td>\n      <td>NaN</td>\n      <td>NaN</td>\n      <td>NaN</td>\n    </tr>\n    <tr>\n      <th>...</th>\n      <td>...</td>\n      <td>...</td>\n      <td>...</td>\n      <td>...</td>\n      <td>...</td>\n      <td>...</td>\n      <td>...</td>\n    </tr>\n    <tr>\n      <th>4986</th>\n      <td>2022-09-10</td>\n      <td>NaN</td>\n      <td>NaN</td>\n      <td>NaN</td>\n      <td>NaN</td>\n      <td>NaN</td>\n      <td>NaN</td>\n    </tr>\n    <tr>\n      <th>4987</th>\n      <td>2022-09-11</td>\n      <td>NaN</td>\n      <td>NaN</td>\n      <td>NaN</td>\n      <td>NaN</td>\n      <td>NaN</td>\n      <td>NaN</td>\n    </tr>\n    <tr>\n      <th>4988</th>\n      <td>2022-09-12</td>\n      <td>159.589996</td>\n      <td>164.259995</td>\n      <td>159.300003</td>\n      <td>163.429993</td>\n      <td>163.429993</td>\n      <td>1.049560e+08</td>\n    </tr>\n    <tr>\n      <th>4989</th>\n      <td>2022-09-13</td>\n      <td>159.899994</td>\n      <td>160.539993</td>\n      <td>153.369995</td>\n      <td>153.839996</td>\n      <td>153.839996</td>\n      <td>1.226566e+08</td>\n    </tr>\n    <tr>\n      <th>4990</th>\n      <td>2022-09-14</td>\n      <td>154.789993</td>\n      <td>157.100006</td>\n      <td>153.610001</td>\n      <td>155.309998</td>\n      <td>155.309998</td>\n      <td>8.785060e+07</td>\n    </tr>\n  </tbody>\n</table>\n<p>4991 rows × 7 columns</p>\n</div>"
     },
     "execution_count": 20,
     "metadata": {},
     "output_type": "execute_result"
    }
   ],
   "source": [
    "start_date = AAPL['Date'].min()  # Minimum date in the original DataFrame\n",
    "end_date = AAPL['Date'].max()    # Maximum date in the original DataFrame\n",
    "date_range = pd.date_range(start=start_date, end=end_date, freq='D')\n",
    "\n",
    "# Create a DataFrame from the date range\n",
    "date_range_aapl = pd.DataFrame({'Date': date_range})\n",
    "\n",
    "# Merge only the missing dates into the DataFrame\n",
    "full_date_aapl = pd.merge(date_range_aapl, AAPL, on='Date', how='left')\n",
    "\n",
    "# Sort the DataFrame by the 'Date' column if needed\n",
    "full_date_aapl.sort_values('Date', inplace=True)\n",
    "\n",
    "# Display the updated DataFrame\n",
    "full_date_aapl"
   ]
  },
  {
   "cell_type": "markdown",
   "id": "d1e04aec",
   "metadata": {
    "pycharm": {
     "name": "#%% md\n"
    }
   },
   "source": [
    "Add the weekdays and remove the weekends (saturday=5 and sunday=6)"
   ]
  },
  {
   "cell_type": "code",
   "execution_count": 21,
   "id": "31990a8b",
   "metadata": {
    "pycharm": {
     "name": "#%%\n"
    },
    "ExecuteTime": {
     "end_time": "2023-10-19T16:58:04.420649300Z",
     "start_time": "2023-10-19T16:58:04.373361200Z"
    }
   },
   "outputs": [
    {
     "data": {
      "text/plain": "           Date        Open        High         Low       Close   Adj Close  \\\n0    2009-01-15    2.877500    3.004286    2.858929    2.977857    2.542589   \n1    2009-01-16    3.010714    3.013571    2.871429    2.940357    2.510570   \n4    2009-01-19         NaN         NaN         NaN         NaN         NaN   \n5    2009-01-20    2.926071    2.928571    2.792857    2.792857    2.384630   \n6    2009-01-21    2.835357    2.960000    2.832500    2.958214    2.525818   \n...         ...         ...         ...         ...         ...         ...   \n4984 2022-09-08  154.639999  156.360001  152.679993  154.460007  154.460007   \n4985 2022-09-09  155.470001  157.820007  154.750000  157.369995  157.369995   \n4988 2022-09-12  159.589996  164.259995  159.300003  163.429993  163.429993   \n4989 2022-09-13  159.899994  160.539993  153.369995  153.839996  153.839996   \n4990 2022-09-14  154.789993  157.100006  153.610001  155.309998  155.309998   \n\n            Volume  weekday  \n0     1.831634e+09        3  \n1     1.047626e+09        4  \n4              NaN        0  \n5     9.199148e+08        1  \n6     1.089270e+09        2  \n...            ...      ...  \n4984  8.492380e+07        3  \n4985  6.802880e+07        4  \n4988  1.049560e+08        0  \n4989  1.226566e+08        1  \n4990  8.785060e+07        2  \n\n[3565 rows x 8 columns]",
      "text/html": "<div>\n<style scoped>\n    .dataframe tbody tr th:only-of-type {\n        vertical-align: middle;\n    }\n\n    .dataframe tbody tr th {\n        vertical-align: top;\n    }\n\n    .dataframe thead th {\n        text-align: right;\n    }\n</style>\n<table border=\"1\" class=\"dataframe\">\n  <thead>\n    <tr style=\"text-align: right;\">\n      <th></th>\n      <th>Date</th>\n      <th>Open</th>\n      <th>High</th>\n      <th>Low</th>\n      <th>Close</th>\n      <th>Adj Close</th>\n      <th>Volume</th>\n      <th>weekday</th>\n    </tr>\n  </thead>\n  <tbody>\n    <tr>\n      <th>0</th>\n      <td>2009-01-15</td>\n      <td>2.877500</td>\n      <td>3.004286</td>\n      <td>2.858929</td>\n      <td>2.977857</td>\n      <td>2.542589</td>\n      <td>1.831634e+09</td>\n      <td>3</td>\n    </tr>\n    <tr>\n      <th>1</th>\n      <td>2009-01-16</td>\n      <td>3.010714</td>\n      <td>3.013571</td>\n      <td>2.871429</td>\n      <td>2.940357</td>\n      <td>2.510570</td>\n      <td>1.047626e+09</td>\n      <td>4</td>\n    </tr>\n    <tr>\n      <th>4</th>\n      <td>2009-01-19</td>\n      <td>NaN</td>\n      <td>NaN</td>\n      <td>NaN</td>\n      <td>NaN</td>\n      <td>NaN</td>\n      <td>NaN</td>\n      <td>0</td>\n    </tr>\n    <tr>\n      <th>5</th>\n      <td>2009-01-20</td>\n      <td>2.926071</td>\n      <td>2.928571</td>\n      <td>2.792857</td>\n      <td>2.792857</td>\n      <td>2.384630</td>\n      <td>9.199148e+08</td>\n      <td>1</td>\n    </tr>\n    <tr>\n      <th>6</th>\n      <td>2009-01-21</td>\n      <td>2.835357</td>\n      <td>2.960000</td>\n      <td>2.832500</td>\n      <td>2.958214</td>\n      <td>2.525818</td>\n      <td>1.089270e+09</td>\n      <td>2</td>\n    </tr>\n    <tr>\n      <th>...</th>\n      <td>...</td>\n      <td>...</td>\n      <td>...</td>\n      <td>...</td>\n      <td>...</td>\n      <td>...</td>\n      <td>...</td>\n      <td>...</td>\n    </tr>\n    <tr>\n      <th>4984</th>\n      <td>2022-09-08</td>\n      <td>154.639999</td>\n      <td>156.360001</td>\n      <td>152.679993</td>\n      <td>154.460007</td>\n      <td>154.460007</td>\n      <td>8.492380e+07</td>\n      <td>3</td>\n    </tr>\n    <tr>\n      <th>4985</th>\n      <td>2022-09-09</td>\n      <td>155.470001</td>\n      <td>157.820007</td>\n      <td>154.750000</td>\n      <td>157.369995</td>\n      <td>157.369995</td>\n      <td>6.802880e+07</td>\n      <td>4</td>\n    </tr>\n    <tr>\n      <th>4988</th>\n      <td>2022-09-12</td>\n      <td>159.589996</td>\n      <td>164.259995</td>\n      <td>159.300003</td>\n      <td>163.429993</td>\n      <td>163.429993</td>\n      <td>1.049560e+08</td>\n      <td>0</td>\n    </tr>\n    <tr>\n      <th>4989</th>\n      <td>2022-09-13</td>\n      <td>159.899994</td>\n      <td>160.539993</td>\n      <td>153.369995</td>\n      <td>153.839996</td>\n      <td>153.839996</td>\n      <td>1.226566e+08</td>\n      <td>1</td>\n    </tr>\n    <tr>\n      <th>4990</th>\n      <td>2022-09-14</td>\n      <td>154.789993</td>\n      <td>157.100006</td>\n      <td>153.610001</td>\n      <td>155.309998</td>\n      <td>155.309998</td>\n      <td>8.785060e+07</td>\n      <td>2</td>\n    </tr>\n  </tbody>\n</table>\n<p>3565 rows × 8 columns</p>\n</div>"
     },
     "execution_count": 21,
     "metadata": {},
     "output_type": "execute_result"
    }
   ],
   "source": [
    "full_date_aapl['weekday'] = full_date_aapl['Date'].dt.weekday\n",
    "no_weekend_aapl = full_date_aapl[(full_date_aapl['weekday'] != 5) & (full_date_aapl['weekday'] != 6)]\n",
    "no_weekend_aapl"
   ]
  },
  {
   "cell_type": "markdown",
   "id": "bf85afbf",
   "metadata": {
    "pycharm": {
     "name": "#%% md\n"
    }
   },
   "source": [
    "Still, there are some days with NaN values. Therefore, the opening price is set to be the closing price of the previous day and the closing price is the opening price of the next day."
   ]
  },
  {
   "cell_type": "code",
   "execution_count": 22,
   "id": "dfa9d84f",
   "metadata": {
    "pycharm": {
     "name": "#%%\n"
    },
    "ExecuteTime": {
     "end_time": "2023-10-19T16:58:06.711858Z",
     "start_time": "2023-10-19T16:58:06.688680300Z"
    }
   },
   "outputs": [
    {
     "data": {
      "text/plain": "           Date        Open        High         Low       Close   Adj Close  \\\n0    2009-01-15    2.877500    3.004286    2.858929    2.977857    2.542589   \n1    2009-01-16    3.010714    3.013571    2.871429    2.940357    2.510570   \n4    2009-01-19    2.940357         NaN         NaN    2.926071         NaN   \n5    2009-01-20    2.926071    2.928571    2.792857    2.792857    2.384630   \n6    2009-01-21    2.835357    2.960000    2.832500    2.958214    2.525818   \n...         ...         ...         ...         ...         ...         ...   \n4984 2022-09-08  154.639999  156.360001  152.679993  154.460007  154.460007   \n4985 2022-09-09  155.470001  157.820007  154.750000  157.369995  157.369995   \n4988 2022-09-12  159.589996  164.259995  159.300003  163.429993  163.429993   \n4989 2022-09-13  159.899994  160.539993  153.369995  153.839996  153.839996   \n4990 2022-09-14  154.789993  157.100006  153.610001  155.309998  155.309998   \n\n            Volume  weekday  \n0     1.831634e+09        3  \n1     1.047626e+09        4  \n4              NaN        0  \n5     9.199148e+08        1  \n6     1.089270e+09        2  \n...            ...      ...  \n4984  8.492380e+07        3  \n4985  6.802880e+07        4  \n4988  1.049560e+08        0  \n4989  1.226566e+08        1  \n4990  8.785060e+07        2  \n\n[3565 rows x 8 columns]",
      "text/html": "<div>\n<style scoped>\n    .dataframe tbody tr th:only-of-type {\n        vertical-align: middle;\n    }\n\n    .dataframe tbody tr th {\n        vertical-align: top;\n    }\n\n    .dataframe thead th {\n        text-align: right;\n    }\n</style>\n<table border=\"1\" class=\"dataframe\">\n  <thead>\n    <tr style=\"text-align: right;\">\n      <th></th>\n      <th>Date</th>\n      <th>Open</th>\n      <th>High</th>\n      <th>Low</th>\n      <th>Close</th>\n      <th>Adj Close</th>\n      <th>Volume</th>\n      <th>weekday</th>\n    </tr>\n  </thead>\n  <tbody>\n    <tr>\n      <th>0</th>\n      <td>2009-01-15</td>\n      <td>2.877500</td>\n      <td>3.004286</td>\n      <td>2.858929</td>\n      <td>2.977857</td>\n      <td>2.542589</td>\n      <td>1.831634e+09</td>\n      <td>3</td>\n    </tr>\n    <tr>\n      <th>1</th>\n      <td>2009-01-16</td>\n      <td>3.010714</td>\n      <td>3.013571</td>\n      <td>2.871429</td>\n      <td>2.940357</td>\n      <td>2.510570</td>\n      <td>1.047626e+09</td>\n      <td>4</td>\n    </tr>\n    <tr>\n      <th>4</th>\n      <td>2009-01-19</td>\n      <td>2.940357</td>\n      <td>NaN</td>\n      <td>NaN</td>\n      <td>2.926071</td>\n      <td>NaN</td>\n      <td>NaN</td>\n      <td>0</td>\n    </tr>\n    <tr>\n      <th>5</th>\n      <td>2009-01-20</td>\n      <td>2.926071</td>\n      <td>2.928571</td>\n      <td>2.792857</td>\n      <td>2.792857</td>\n      <td>2.384630</td>\n      <td>9.199148e+08</td>\n      <td>1</td>\n    </tr>\n    <tr>\n      <th>6</th>\n      <td>2009-01-21</td>\n      <td>2.835357</td>\n      <td>2.960000</td>\n      <td>2.832500</td>\n      <td>2.958214</td>\n      <td>2.525818</td>\n      <td>1.089270e+09</td>\n      <td>2</td>\n    </tr>\n    <tr>\n      <th>...</th>\n      <td>...</td>\n      <td>...</td>\n      <td>...</td>\n      <td>...</td>\n      <td>...</td>\n      <td>...</td>\n      <td>...</td>\n      <td>...</td>\n    </tr>\n    <tr>\n      <th>4984</th>\n      <td>2022-09-08</td>\n      <td>154.639999</td>\n      <td>156.360001</td>\n      <td>152.679993</td>\n      <td>154.460007</td>\n      <td>154.460007</td>\n      <td>8.492380e+07</td>\n      <td>3</td>\n    </tr>\n    <tr>\n      <th>4985</th>\n      <td>2022-09-09</td>\n      <td>155.470001</td>\n      <td>157.820007</td>\n      <td>154.750000</td>\n      <td>157.369995</td>\n      <td>157.369995</td>\n      <td>6.802880e+07</td>\n      <td>4</td>\n    </tr>\n    <tr>\n      <th>4988</th>\n      <td>2022-09-12</td>\n      <td>159.589996</td>\n      <td>164.259995</td>\n      <td>159.300003</td>\n      <td>163.429993</td>\n      <td>163.429993</td>\n      <td>1.049560e+08</td>\n      <td>0</td>\n    </tr>\n    <tr>\n      <th>4989</th>\n      <td>2022-09-13</td>\n      <td>159.899994</td>\n      <td>160.539993</td>\n      <td>153.369995</td>\n      <td>153.839996</td>\n      <td>153.839996</td>\n      <td>1.226566e+08</td>\n      <td>1</td>\n    </tr>\n    <tr>\n      <th>4990</th>\n      <td>2022-09-14</td>\n      <td>154.789993</td>\n      <td>157.100006</td>\n      <td>153.610001</td>\n      <td>155.309998</td>\n      <td>155.309998</td>\n      <td>8.785060e+07</td>\n      <td>2</td>\n    </tr>\n  </tbody>\n</table>\n<p>3565 rows × 8 columns</p>\n</div>"
     },
     "execution_count": 22,
     "metadata": {},
     "output_type": "execute_result"
    }
   ],
   "source": [
    "# Identify rows with NaN values in 'Open' and 'Close' columns\n",
    "missing_rows = no_weekend_aapl[['Open', 'Close']].isna().all(axis=1)\n",
    "\n",
    "# Shift values only for rows with NaN values\n",
    "no_weekend_aapl.loc[missing_rows, 'Open'] = no_weekend_aapl['Close'].shift(1)\n",
    "no_weekend_aapl.loc[missing_rows, 'Close'] = no_weekend_aapl['Open'].shift(-1)\n",
    "\n",
    "# Display the updated DataFrame\n",
    "no_weekend_aapl"
   ]
  },
  {
   "cell_type": "markdown",
   "id": "57ccfe8b",
   "metadata": {
    "pycharm": {
     "name": "#%% md\n"
    }
   },
   "source": [
    "# Add stock_increase column\n",
    "\n",
    "If Close is higher than Open, a 1 is inserted in the stock_increase column (stock thus increased that day). Otherwhise, 0 is added (stock decreased that day)"
   ]
  },
  {
   "cell_type": "code",
   "execution_count": 23,
   "id": "22ae5ad3",
   "metadata": {
    "pycharm": {
     "name": "#%%\n"
    },
    "ExecuteTime": {
     "end_time": "2023-10-19T16:58:17.918174Z",
     "start_time": "2023-10-19T16:58:17.886924Z"
    }
   },
   "outputs": [
    {
     "name": "stderr",
     "output_type": "stream",
     "text": [
      "<ipython-input-23-22038ce1f7ab>:1: SettingWithCopyWarning: \n",
      "A value is trying to be set on a copy of a slice from a DataFrame.\n",
      "Try using .loc[row_indexer,col_indexer] = value instead\n",
      "\n",
      "See the caveats in the documentation: https://pandas.pydata.org/pandas-docs/stable/user_guide/indexing.html#returning-a-view-versus-a-copy\n",
      "  no_weekend_aapl['stock_increase'] = (no_weekend_aapl['Close'] > no_weekend_aapl['Open']).astype(int)\n"
     ]
    },
    {
     "data": {
      "text/plain": "           Date        Open        High         Low       Close   Adj Close  \\\n0    2009-01-15    2.877500    3.004286    2.858929    2.977857    2.542589   \n1    2009-01-16    3.010714    3.013571    2.871429    2.940357    2.510570   \n4    2009-01-19    2.940357         NaN         NaN    2.926071         NaN   \n5    2009-01-20    2.926071    2.928571    2.792857    2.792857    2.384630   \n6    2009-01-21    2.835357    2.960000    2.832500    2.958214    2.525818   \n...         ...         ...         ...         ...         ...         ...   \n4984 2022-09-08  154.639999  156.360001  152.679993  154.460007  154.460007   \n4985 2022-09-09  155.470001  157.820007  154.750000  157.369995  157.369995   \n4988 2022-09-12  159.589996  164.259995  159.300003  163.429993  163.429993   \n4989 2022-09-13  159.899994  160.539993  153.369995  153.839996  153.839996   \n4990 2022-09-14  154.789993  157.100006  153.610001  155.309998  155.309998   \n\n            Volume  weekday  stock_increase  \n0     1.831634e+09        3               1  \n1     1.047626e+09        4               0  \n4              NaN        0               0  \n5     9.199148e+08        1               0  \n6     1.089270e+09        2               1  \n...            ...      ...             ...  \n4984  8.492380e+07        3               0  \n4985  6.802880e+07        4               1  \n4988  1.049560e+08        0               1  \n4989  1.226566e+08        1               0  \n4990  8.785060e+07        2               1  \n\n[3565 rows x 9 columns]",
      "text/html": "<div>\n<style scoped>\n    .dataframe tbody tr th:only-of-type {\n        vertical-align: middle;\n    }\n\n    .dataframe tbody tr th {\n        vertical-align: top;\n    }\n\n    .dataframe thead th {\n        text-align: right;\n    }\n</style>\n<table border=\"1\" class=\"dataframe\">\n  <thead>\n    <tr style=\"text-align: right;\">\n      <th></th>\n      <th>Date</th>\n      <th>Open</th>\n      <th>High</th>\n      <th>Low</th>\n      <th>Close</th>\n      <th>Adj Close</th>\n      <th>Volume</th>\n      <th>weekday</th>\n      <th>stock_increase</th>\n    </tr>\n  </thead>\n  <tbody>\n    <tr>\n      <th>0</th>\n      <td>2009-01-15</td>\n      <td>2.877500</td>\n      <td>3.004286</td>\n      <td>2.858929</td>\n      <td>2.977857</td>\n      <td>2.542589</td>\n      <td>1.831634e+09</td>\n      <td>3</td>\n      <td>1</td>\n    </tr>\n    <tr>\n      <th>1</th>\n      <td>2009-01-16</td>\n      <td>3.010714</td>\n      <td>3.013571</td>\n      <td>2.871429</td>\n      <td>2.940357</td>\n      <td>2.510570</td>\n      <td>1.047626e+09</td>\n      <td>4</td>\n      <td>0</td>\n    </tr>\n    <tr>\n      <th>4</th>\n      <td>2009-01-19</td>\n      <td>2.940357</td>\n      <td>NaN</td>\n      <td>NaN</td>\n      <td>2.926071</td>\n      <td>NaN</td>\n      <td>NaN</td>\n      <td>0</td>\n      <td>0</td>\n    </tr>\n    <tr>\n      <th>5</th>\n      <td>2009-01-20</td>\n      <td>2.926071</td>\n      <td>2.928571</td>\n      <td>2.792857</td>\n      <td>2.792857</td>\n      <td>2.384630</td>\n      <td>9.199148e+08</td>\n      <td>1</td>\n      <td>0</td>\n    </tr>\n    <tr>\n      <th>6</th>\n      <td>2009-01-21</td>\n      <td>2.835357</td>\n      <td>2.960000</td>\n      <td>2.832500</td>\n      <td>2.958214</td>\n      <td>2.525818</td>\n      <td>1.089270e+09</td>\n      <td>2</td>\n      <td>1</td>\n    </tr>\n    <tr>\n      <th>...</th>\n      <td>...</td>\n      <td>...</td>\n      <td>...</td>\n      <td>...</td>\n      <td>...</td>\n      <td>...</td>\n      <td>...</td>\n      <td>...</td>\n      <td>...</td>\n    </tr>\n    <tr>\n      <th>4984</th>\n      <td>2022-09-08</td>\n      <td>154.639999</td>\n      <td>156.360001</td>\n      <td>152.679993</td>\n      <td>154.460007</td>\n      <td>154.460007</td>\n      <td>8.492380e+07</td>\n      <td>3</td>\n      <td>0</td>\n    </tr>\n    <tr>\n      <th>4985</th>\n      <td>2022-09-09</td>\n      <td>155.470001</td>\n      <td>157.820007</td>\n      <td>154.750000</td>\n      <td>157.369995</td>\n      <td>157.369995</td>\n      <td>6.802880e+07</td>\n      <td>4</td>\n      <td>1</td>\n    </tr>\n    <tr>\n      <th>4988</th>\n      <td>2022-09-12</td>\n      <td>159.589996</td>\n      <td>164.259995</td>\n      <td>159.300003</td>\n      <td>163.429993</td>\n      <td>163.429993</td>\n      <td>1.049560e+08</td>\n      <td>0</td>\n      <td>1</td>\n    </tr>\n    <tr>\n      <th>4989</th>\n      <td>2022-09-13</td>\n      <td>159.899994</td>\n      <td>160.539993</td>\n      <td>153.369995</td>\n      <td>153.839996</td>\n      <td>153.839996</td>\n      <td>1.226566e+08</td>\n      <td>1</td>\n      <td>0</td>\n    </tr>\n    <tr>\n      <th>4990</th>\n      <td>2022-09-14</td>\n      <td>154.789993</td>\n      <td>157.100006</td>\n      <td>153.610001</td>\n      <td>155.309998</td>\n      <td>155.309998</td>\n      <td>8.785060e+07</td>\n      <td>2</td>\n      <td>1</td>\n    </tr>\n  </tbody>\n</table>\n<p>3565 rows × 9 columns</p>\n</div>"
     },
     "execution_count": 23,
     "metadata": {},
     "output_type": "execute_result"
    }
   ],
   "source": [
    "no_weekend_aapl['stock_increase'] = (no_weekend_aapl['Close'] > no_weekend_aapl['Open']).astype(int)\n",
    "no_weekend_aapl"
   ]
  },
  {
   "cell_type": "markdown",
   "id": "b590224a",
   "metadata": {
    "pycharm": {
     "name": "#%% md\n"
    }
   },
   "source": [
    "# Merge the datasets\n",
    "\n",
    "Only add the stock_increase column of the fixed AAPL dataset to the articles dataset. Merge is based on release_date of the arcticles dataset"
   ]
  },
  {
   "cell_type": "code",
   "execution_count": 24,
   "id": "d2458b51",
   "metadata": {
    "pycharm": {
     "name": "#%%\n"
    },
    "ExecuteTime": {
     "end_time": "2023-10-19T16:58:21.553891600Z",
     "start_time": "2023-10-19T16:58:21.435563700Z"
    }
   },
   "outputs": [
    {
     "data": {
      "text/plain": "            id ticker                                              title  \\\n0       221515    NIO  Why Shares of Chinese Electric Car Maker NIO A...   \n1       221516    NIO  NIO only consumer gainer  Workhorse Group amon...   \n2       221517    NIO  NIO leads consumer gainers  Beyond Meat and Ma...   \n3       221518    NIO                  NIO  NVAX among premarket gainers   \n4       221519    NIO                  PLUG  NIO among premarket gainers   \n...        ...    ...                                                ...   \n221500  443024      T                     Crude And Steel Still In Sync    \n221501  443025      T  Forget AT T  This Is The Telecom Stock You Sho...   \n221502  443026      T  Wall Street Exposed   Part 3   How Dividends C...   \n221503  443027      T       Weighing The Week Ahead  It s All About Jobs   \n221504  443028      T  Leap Wireless  LEAP    JPM Note and AT T   T M...   \n\n       category                                            content  \\\n0          news  happening share chinese electric car maker nio...   \n1          news  gainer nio nyse nio loser mgp ingredient nasda...   \n2          news  gainer nio nyse nio village farm international...   \n3          news  cemtrex nasdaq cetx result fluent nasdaq flnt ...   \n4          news  atyr pharma nasdaq life kyorin pharma deal tow...   \n...         ...                                                ...   \n221500  opinion  reporting trade producer price index crude oil...   \n221501  opinion  largest cell phone provider world customer nys...   \n221502  opinion  dicuss mechanism dividend keep stock extension...   \n221503  opinion  start finish coming week heightened focus empl...   \n221504  opinion  leap wireless international inc leap wireless ...   \n\n       release_date         provider  \\\n0        2020-01-15  The Motley Fool   \n1        2020-01-18    Seeking Alpha   \n2        2020-01-15    Seeking Alpha   \n3        2020-01-15    Seeking Alpha   \n4        2020-01-06    Seeking Alpha   \n...             ...              ...   \n221500   2012-10-04       Ivan Kitov   \n221501   2012-05-30  StreetAuthority   \n221502   2012-07-16   Portfolio Cafe   \n221503   2012-09-02      Jeff Miller   \n221504   2011-12-31   Ophir Gottlieb   \n\n                                                      url  article_id  \\\n0                                  https://invst.ly/pigqi     2060327   \n1                                  https://invst.ly/pje9c     2062196   \n2                                  https://invst.ly/pifmv     2060249   \n3                                  https://invst.ly/picu8     2060039   \n4       https://seekingalpha.com/news/3529772-plug-nio...     2053096   \n...                                                   ...         ...   \n221500  https://www.investing.com/analysis/crude-and-s...      138733   \n221501  https://www.investing.com/analysis/forget-at-t...      124829   \n221502  https://www.investing.com/analysis/wall-street...      129651   \n221503  https://www.investing.com/analysis/weighing-th...      134926   \n221504  https://www.investing.com/analysis/leap-wirele...      110079   \n\n             Date  stock_increase  \n0      2020-01-15             0.0  \n1             NaT             NaN  \n2      2020-01-15             0.0  \n3      2020-01-15             0.0  \n4      2020-01-06             1.0  \n...           ...             ...  \n221500 2012-10-04             0.0  \n221501 2012-05-30             1.0  \n221502 2012-07-16             1.0  \n221503        NaT             NaN  \n221504        NaT             NaN  \n\n[221505 rows x 11 columns]",
      "text/html": "<div>\n<style scoped>\n    .dataframe tbody tr th:only-of-type {\n        vertical-align: middle;\n    }\n\n    .dataframe tbody tr th {\n        vertical-align: top;\n    }\n\n    .dataframe thead th {\n        text-align: right;\n    }\n</style>\n<table border=\"1\" class=\"dataframe\">\n  <thead>\n    <tr style=\"text-align: right;\">\n      <th></th>\n      <th>id</th>\n      <th>ticker</th>\n      <th>title</th>\n      <th>category</th>\n      <th>content</th>\n      <th>release_date</th>\n      <th>provider</th>\n      <th>url</th>\n      <th>article_id</th>\n      <th>Date</th>\n      <th>stock_increase</th>\n    </tr>\n  </thead>\n  <tbody>\n    <tr>\n      <th>0</th>\n      <td>221515</td>\n      <td>NIO</td>\n      <td>Why Shares of Chinese Electric Car Maker NIO A...</td>\n      <td>news</td>\n      <td>happening share chinese electric car maker nio...</td>\n      <td>2020-01-15</td>\n      <td>The Motley Fool</td>\n      <td>https://invst.ly/pigqi</td>\n      <td>2060327</td>\n      <td>2020-01-15</td>\n      <td>0.0</td>\n    </tr>\n    <tr>\n      <th>1</th>\n      <td>221516</td>\n      <td>NIO</td>\n      <td>NIO only consumer gainer  Workhorse Group amon...</td>\n      <td>news</td>\n      <td>gainer nio nyse nio loser mgp ingredient nasda...</td>\n      <td>2020-01-18</td>\n      <td>Seeking Alpha</td>\n      <td>https://invst.ly/pje9c</td>\n      <td>2062196</td>\n      <td>NaT</td>\n      <td>NaN</td>\n    </tr>\n    <tr>\n      <th>2</th>\n      <td>221517</td>\n      <td>NIO</td>\n      <td>NIO leads consumer gainers  Beyond Meat and Ma...</td>\n      <td>news</td>\n      <td>gainer nio nyse nio village farm international...</td>\n      <td>2020-01-15</td>\n      <td>Seeking Alpha</td>\n      <td>https://invst.ly/pifmv</td>\n      <td>2060249</td>\n      <td>2020-01-15</td>\n      <td>0.0</td>\n    </tr>\n    <tr>\n      <th>3</th>\n      <td>221518</td>\n      <td>NIO</td>\n      <td>NIO  NVAX among premarket gainers</td>\n      <td>news</td>\n      <td>cemtrex nasdaq cetx result fluent nasdaq flnt ...</td>\n      <td>2020-01-15</td>\n      <td>Seeking Alpha</td>\n      <td>https://invst.ly/picu8</td>\n      <td>2060039</td>\n      <td>2020-01-15</td>\n      <td>0.0</td>\n    </tr>\n    <tr>\n      <th>4</th>\n      <td>221519</td>\n      <td>NIO</td>\n      <td>PLUG  NIO among premarket gainers</td>\n      <td>news</td>\n      <td>atyr pharma nasdaq life kyorin pharma deal tow...</td>\n      <td>2020-01-06</td>\n      <td>Seeking Alpha</td>\n      <td>https://seekingalpha.com/news/3529772-plug-nio...</td>\n      <td>2053096</td>\n      <td>2020-01-06</td>\n      <td>1.0</td>\n    </tr>\n    <tr>\n      <th>...</th>\n      <td>...</td>\n      <td>...</td>\n      <td>...</td>\n      <td>...</td>\n      <td>...</td>\n      <td>...</td>\n      <td>...</td>\n      <td>...</td>\n      <td>...</td>\n      <td>...</td>\n      <td>...</td>\n    </tr>\n    <tr>\n      <th>221500</th>\n      <td>443024</td>\n      <td>T</td>\n      <td>Crude And Steel Still In Sync</td>\n      <td>opinion</td>\n      <td>reporting trade producer price index crude oil...</td>\n      <td>2012-10-04</td>\n      <td>Ivan Kitov</td>\n      <td>https://www.investing.com/analysis/crude-and-s...</td>\n      <td>138733</td>\n      <td>2012-10-04</td>\n      <td>0.0</td>\n    </tr>\n    <tr>\n      <th>221501</th>\n      <td>443025</td>\n      <td>T</td>\n      <td>Forget AT T  This Is The Telecom Stock You Sho...</td>\n      <td>opinion</td>\n      <td>largest cell phone provider world customer nys...</td>\n      <td>2012-05-30</td>\n      <td>StreetAuthority</td>\n      <td>https://www.investing.com/analysis/forget-at-t...</td>\n      <td>124829</td>\n      <td>2012-05-30</td>\n      <td>1.0</td>\n    </tr>\n    <tr>\n      <th>221502</th>\n      <td>443026</td>\n      <td>T</td>\n      <td>Wall Street Exposed   Part 3   How Dividends C...</td>\n      <td>opinion</td>\n      <td>dicuss mechanism dividend keep stock extension...</td>\n      <td>2012-07-16</td>\n      <td>Portfolio Cafe</td>\n      <td>https://www.investing.com/analysis/wall-street...</td>\n      <td>129651</td>\n      <td>2012-07-16</td>\n      <td>1.0</td>\n    </tr>\n    <tr>\n      <th>221503</th>\n      <td>443027</td>\n      <td>T</td>\n      <td>Weighing The Week Ahead  It s All About Jobs</td>\n      <td>opinion</td>\n      <td>start finish coming week heightened focus empl...</td>\n      <td>2012-09-02</td>\n      <td>Jeff Miller</td>\n      <td>https://www.investing.com/analysis/weighing-th...</td>\n      <td>134926</td>\n      <td>NaT</td>\n      <td>NaN</td>\n    </tr>\n    <tr>\n      <th>221504</th>\n      <td>443028</td>\n      <td>T</td>\n      <td>Leap Wireless  LEAP    JPM Note and AT T   T M...</td>\n      <td>opinion</td>\n      <td>leap wireless international inc leap wireless ...</td>\n      <td>2011-12-31</td>\n      <td>Ophir Gottlieb</td>\n      <td>https://www.investing.com/analysis/leap-wirele...</td>\n      <td>110079</td>\n      <td>NaT</td>\n      <td>NaN</td>\n    </tr>\n  </tbody>\n</table>\n<p>221505 rows × 11 columns</p>\n</div>"
     },
     "execution_count": 24,
     "metadata": {},
     "output_type": "execute_result"
    }
   ],
   "source": [
    "merged_df = pd.merge(preprocessed, no_weekend_aapl[['Date','stock_increase']], left_on='release_date', right_on='Date', how='left')\n",
    "merged_df"
   ]
  },
  {
   "cell_type": "markdown",
   "id": "16f88d08",
   "metadata": {
    "pycharm": {
     "name": "#%% md\n"
    }
   },
   "source": [
    "Check which articles have missing data. Turns out that these articles are released in the weekend. There is no stock data available in the weekend"
   ]
  },
  {
   "cell_type": "code",
   "execution_count": 25,
   "id": "fb655e9b",
   "metadata": {
    "pycharm": {
     "name": "#%%\n"
    },
    "ExecuteTime": {
     "end_time": "2023-10-19T16:58:25.050579200Z",
     "start_time": "2023-10-19T16:58:24.971927800Z"
    }
   },
   "outputs": [
    {
     "data": {
      "text/plain": "            id ticker                                              title  \\\n1       221516    NIO  NIO only consumer gainer  Workhorse Group amon...   \n14      221529    NIO  Can NIO Pose A Serious Challenge To Tesla s Ch...   \n36      221551    NIO      Three Foreign Stocks To Watch  STNE  QTT  NIO   \n64      221579    NIO                       NIO Q3 2019 Earnings Preview   \n77      221592   UBER  Starbucks Vs McDonald s  Which Is A Better Res...   \n...        ...    ...                                                ...   \n221495  443019      T  Pitney Bowes  Share Price May Continue Its Lon...   \n221496  443020      T                    Spain  33  Unemployed In 2013     \n221497  443021      T  S P 500 Returns Imply Real GDP Growth Of 4  In...   \n221503  443027      T       Weighing The Week Ahead  It s All About Jobs   \n221504  443028      T  Leap Wireless  LEAP    JPM Note and AT T   T M...   \n\n       category                                            content  \\\n1          news  gainer nio nyse nio loser mgp ingredient nasda...   \n14      opinion  seems nio inc nyse nio touted china tesla nasd...   \n36      opinion  stoneco qutoutiao nio three foreign stock high...   \n64         news  nio nyse nio scheduled announce earnings resul...   \n77      opinion  zacks industry decent run past year industry g...   \n...         ...                                                ...   \n221495  opinion  time would like revisit deterministic model sh...   \n221496  opinion  year ago using lsq technique applied integral ...   \n221497  opinion  following link real gdp since first version qu...   \n221503  opinion  start finish coming week heightened focus empl...   \n221504  opinion  leap wireless international inc leap wireless ...   \n\n       release_date                   provider  \\\n1        2020-01-18              Seeking Alpha   \n14       2019-12-15  Zacks Investment Research   \n36       2019-03-03            Ivaylo Ivanhoff   \n64       2019-12-29              Seeking Alpha   \n77       2020-01-12  Zacks Investment Research   \n...             ...                        ...   \n221495   2012-11-18                 Ivan Kitov   \n221496   2012-10-14                 Ivan Kitov   \n221497   2012-10-14                 Ivan Kitov   \n221503   2012-09-02                Jeff Miller   \n221504   2011-12-31             Ophir Gottlieb   \n\n                                                      url  article_id Date  \\\n1                                  https://invst.ly/pje9c     2062196  NaT   \n14      https://www.investing.com/analysis/can-nio-pos...   200492825  NaT   \n36      https://www.investing.com/analysis/three-of-th...   200394146  NaT   \n64                                 https://invst.ly/pap1i     2049560  NaT   \n77      https://www.investing.com/analysis/starbucks-v...   200498322  NaT   \n...                                                   ...         ...  ...   \n221495  https://www.investing.com/analysis/pitney-bowe...      144038  NaT   \n221496  https://www.investing.com/analysis/spain:-33-u...      139702  NaT   \n221497  https://www.investing.com/analysis/s-p-500-ret...      139747  NaT   \n221503  https://www.investing.com/analysis/weighing-th...      134926  NaT   \n221504  https://www.investing.com/analysis/leap-wirele...      110079  NaT   \n\n        stock_increase  \n1                  NaN  \n14                 NaN  \n36                 NaN  \n64                 NaN  \n77                 NaN  \n...                ...  \n221495             NaN  \n221496             NaN  \n221497             NaN  \n221503             NaN  \n221504             NaN  \n\n[20997 rows x 11 columns]",
      "text/html": "<div>\n<style scoped>\n    .dataframe tbody tr th:only-of-type {\n        vertical-align: middle;\n    }\n\n    .dataframe tbody tr th {\n        vertical-align: top;\n    }\n\n    .dataframe thead th {\n        text-align: right;\n    }\n</style>\n<table border=\"1\" class=\"dataframe\">\n  <thead>\n    <tr style=\"text-align: right;\">\n      <th></th>\n      <th>id</th>\n      <th>ticker</th>\n      <th>title</th>\n      <th>category</th>\n      <th>content</th>\n      <th>release_date</th>\n      <th>provider</th>\n      <th>url</th>\n      <th>article_id</th>\n      <th>Date</th>\n      <th>stock_increase</th>\n    </tr>\n  </thead>\n  <tbody>\n    <tr>\n      <th>1</th>\n      <td>221516</td>\n      <td>NIO</td>\n      <td>NIO only consumer gainer  Workhorse Group amon...</td>\n      <td>news</td>\n      <td>gainer nio nyse nio loser mgp ingredient nasda...</td>\n      <td>2020-01-18</td>\n      <td>Seeking Alpha</td>\n      <td>https://invst.ly/pje9c</td>\n      <td>2062196</td>\n      <td>NaT</td>\n      <td>NaN</td>\n    </tr>\n    <tr>\n      <th>14</th>\n      <td>221529</td>\n      <td>NIO</td>\n      <td>Can NIO Pose A Serious Challenge To Tesla s Ch...</td>\n      <td>opinion</td>\n      <td>seems nio inc nyse nio touted china tesla nasd...</td>\n      <td>2019-12-15</td>\n      <td>Zacks Investment Research</td>\n      <td>https://www.investing.com/analysis/can-nio-pos...</td>\n      <td>200492825</td>\n      <td>NaT</td>\n      <td>NaN</td>\n    </tr>\n    <tr>\n      <th>36</th>\n      <td>221551</td>\n      <td>NIO</td>\n      <td>Three Foreign Stocks To Watch  STNE  QTT  NIO</td>\n      <td>opinion</td>\n      <td>stoneco qutoutiao nio three foreign stock high...</td>\n      <td>2019-03-03</td>\n      <td>Ivaylo Ivanhoff</td>\n      <td>https://www.investing.com/analysis/three-of-th...</td>\n      <td>200394146</td>\n      <td>NaT</td>\n      <td>NaN</td>\n    </tr>\n    <tr>\n      <th>64</th>\n      <td>221579</td>\n      <td>NIO</td>\n      <td>NIO Q3 2019 Earnings Preview</td>\n      <td>news</td>\n      <td>nio nyse nio scheduled announce earnings resul...</td>\n      <td>2019-12-29</td>\n      <td>Seeking Alpha</td>\n      <td>https://invst.ly/pap1i</td>\n      <td>2049560</td>\n      <td>NaT</td>\n      <td>NaN</td>\n    </tr>\n    <tr>\n      <th>77</th>\n      <td>221592</td>\n      <td>UBER</td>\n      <td>Starbucks Vs McDonald s  Which Is A Better Res...</td>\n      <td>opinion</td>\n      <td>zacks industry decent run past year industry g...</td>\n      <td>2020-01-12</td>\n      <td>Zacks Investment Research</td>\n      <td>https://www.investing.com/analysis/starbucks-v...</td>\n      <td>200498322</td>\n      <td>NaT</td>\n      <td>NaN</td>\n    </tr>\n    <tr>\n      <th>...</th>\n      <td>...</td>\n      <td>...</td>\n      <td>...</td>\n      <td>...</td>\n      <td>...</td>\n      <td>...</td>\n      <td>...</td>\n      <td>...</td>\n      <td>...</td>\n      <td>...</td>\n      <td>...</td>\n    </tr>\n    <tr>\n      <th>221495</th>\n      <td>443019</td>\n      <td>T</td>\n      <td>Pitney Bowes  Share Price May Continue Its Lon...</td>\n      <td>opinion</td>\n      <td>time would like revisit deterministic model sh...</td>\n      <td>2012-11-18</td>\n      <td>Ivan Kitov</td>\n      <td>https://www.investing.com/analysis/pitney-bowe...</td>\n      <td>144038</td>\n      <td>NaT</td>\n      <td>NaN</td>\n    </tr>\n    <tr>\n      <th>221496</th>\n      <td>443020</td>\n      <td>T</td>\n      <td>Spain  33  Unemployed In 2013</td>\n      <td>opinion</td>\n      <td>year ago using lsq technique applied integral ...</td>\n      <td>2012-10-14</td>\n      <td>Ivan Kitov</td>\n      <td>https://www.investing.com/analysis/spain:-33-u...</td>\n      <td>139702</td>\n      <td>NaT</td>\n      <td>NaN</td>\n    </tr>\n    <tr>\n      <th>221497</th>\n      <td>443021</td>\n      <td>T</td>\n      <td>S P 500 Returns Imply Real GDP Growth Of 4  In...</td>\n      <td>opinion</td>\n      <td>following link real gdp since first version qu...</td>\n      <td>2012-10-14</td>\n      <td>Ivan Kitov</td>\n      <td>https://www.investing.com/analysis/s-p-500-ret...</td>\n      <td>139747</td>\n      <td>NaT</td>\n      <td>NaN</td>\n    </tr>\n    <tr>\n      <th>221503</th>\n      <td>443027</td>\n      <td>T</td>\n      <td>Weighing The Week Ahead  It s All About Jobs</td>\n      <td>opinion</td>\n      <td>start finish coming week heightened focus empl...</td>\n      <td>2012-09-02</td>\n      <td>Jeff Miller</td>\n      <td>https://www.investing.com/analysis/weighing-th...</td>\n      <td>134926</td>\n      <td>NaT</td>\n      <td>NaN</td>\n    </tr>\n    <tr>\n      <th>221504</th>\n      <td>443028</td>\n      <td>T</td>\n      <td>Leap Wireless  LEAP    JPM Note and AT T   T M...</td>\n      <td>opinion</td>\n      <td>leap wireless international inc leap wireless ...</td>\n      <td>2011-12-31</td>\n      <td>Ophir Gottlieb</td>\n      <td>https://www.investing.com/analysis/leap-wirele...</td>\n      <td>110079</td>\n      <td>NaT</td>\n      <td>NaN</td>\n    </tr>\n  </tbody>\n</table>\n<p>20997 rows × 11 columns</p>\n</div>"
     },
     "execution_count": 25,
     "metadata": {},
     "output_type": "execute_result"
    }
   ],
   "source": [
    "missing_stock_df = merged_df[merged_df['stock_increase'].isna()]\n",
    "missing_stock_df"
   ]
  },
  {
   "cell_type": "markdown",
   "id": "b74d2a7b",
   "metadata": {
    "pycharm": {
     "name": "#%% md\n"
    }
   },
   "source": [
    "# Remove articles that cannot be matched to stock data (due to missing date in the AAPL dataset)"
   ]
  },
  {
   "cell_type": "code",
   "execution_count": 26,
   "id": "273aa719",
   "metadata": {
    "scrolled": true,
    "pycharm": {
     "name": "#%%\n"
    },
    "ExecuteTime": {
     "end_time": "2023-10-19T16:58:28.972742600Z",
     "start_time": "2023-10-19T16:58:28.893265100Z"
    }
   },
   "outputs": [
    {
     "data": {
      "text/plain": "            id ticker                                              title  \\\n0       221515    NIO  Why Shares of Chinese Electric Car Maker NIO A...   \n2       221517    NIO  NIO leads consumer gainers  Beyond Meat and Ma...   \n3       221518    NIO                  NIO  NVAX among premarket gainers   \n4       221519    NIO                  PLUG  NIO among premarket gainers   \n5       221520    NIO  NIO leads consumer gainers  Origin Agritech on...   \n...        ...    ...                                                ...   \n221498  443022      T      A Critical Metals Mixed Bag  Chris Ecclestone   \n221499  443023      T  Weighing The Week Ahead  Time For A Confidence...   \n221500  443024      T                     Crude And Steel Still In Sync    \n221501  443025      T  Forget AT T  This Is The Telecom Stock You Sho...   \n221502  443026      T  Wall Street Exposed   Part 3   How Dividends C...   \n\n       category                                            content  \\\n0          news  happening share chinese electric car maker nio...   \n2          news  gainer nio nyse nio village farm international...   \n3          news  cemtrex nasdaq cetx result fluent nasdaq flnt ...   \n4          news  atyr pharma nasdaq life kyorin pharma deal tow...   \n5          news  gainer nio nyse nio meritor nyse mtor eastman ...   \n...         ...                                                ...   \n221498  opinion  flood company scrambled capitalize rare earth ...   \n221499  opinion  everyone agrees economic recovery disappointin...   \n221500  opinion  reporting trade producer price index crude oil...   \n221501  opinion  largest cell phone provider world customer nys...   \n221502  opinion  dicuss mechanism dividend keep stock extension...   \n\n       release_date         provider  \\\n0        2020-01-15  The Motley Fool   \n2        2020-01-15    Seeking Alpha   \n3        2020-01-15    Seeking Alpha   \n4        2020-01-06    Seeking Alpha   \n5        2019-12-31    Seeking Alpha   \n...             ...              ...   \n221498   2012-10-31  The Gold Report   \n221499   2012-09-24      Jeff Miller   \n221500   2012-10-04       Ivan Kitov   \n221501   2012-05-30  StreetAuthority   \n221502   2012-07-16   Portfolio Cafe   \n\n                                                      url  article_id  \\\n0                                  https://invst.ly/pigqi     2060327   \n2                                  https://invst.ly/pifmv     2060249   \n3                                  https://invst.ly/picu8     2060039   \n4       https://seekingalpha.com/news/3529772-plug-nio...     2053096   \n5       https://seekingalpha.com/news/3528961-nio-lead...     2050524   \n...                                                   ...         ...   \n221498  https://www.investing.com/analysis/a-critical-...      141819   \n221499  https://www.investing.com/analysis/weighing-th...      137387   \n221500  https://www.investing.com/analysis/crude-and-s...      138733   \n221501  https://www.investing.com/analysis/forget-at-t...      124829   \n221502  https://www.investing.com/analysis/wall-street...      129651   \n\n             Date  stock_increase  \n0      2020-01-15             0.0  \n2      2020-01-15             0.0  \n3      2020-01-15             0.0  \n4      2020-01-06             1.0  \n5      2019-12-31             1.0  \n...           ...             ...  \n221498 2012-10-31             1.0  \n221499 2012-09-24             1.0  \n221500 2012-10-04             0.0  \n221501 2012-05-30             1.0  \n221502 2012-07-16             1.0  \n\n[200508 rows x 11 columns]",
      "text/html": "<div>\n<style scoped>\n    .dataframe tbody tr th:only-of-type {\n        vertical-align: middle;\n    }\n\n    .dataframe tbody tr th {\n        vertical-align: top;\n    }\n\n    .dataframe thead th {\n        text-align: right;\n    }\n</style>\n<table border=\"1\" class=\"dataframe\">\n  <thead>\n    <tr style=\"text-align: right;\">\n      <th></th>\n      <th>id</th>\n      <th>ticker</th>\n      <th>title</th>\n      <th>category</th>\n      <th>content</th>\n      <th>release_date</th>\n      <th>provider</th>\n      <th>url</th>\n      <th>article_id</th>\n      <th>Date</th>\n      <th>stock_increase</th>\n    </tr>\n  </thead>\n  <tbody>\n    <tr>\n      <th>0</th>\n      <td>221515</td>\n      <td>NIO</td>\n      <td>Why Shares of Chinese Electric Car Maker NIO A...</td>\n      <td>news</td>\n      <td>happening share chinese electric car maker nio...</td>\n      <td>2020-01-15</td>\n      <td>The Motley Fool</td>\n      <td>https://invst.ly/pigqi</td>\n      <td>2060327</td>\n      <td>2020-01-15</td>\n      <td>0.0</td>\n    </tr>\n    <tr>\n      <th>2</th>\n      <td>221517</td>\n      <td>NIO</td>\n      <td>NIO leads consumer gainers  Beyond Meat and Ma...</td>\n      <td>news</td>\n      <td>gainer nio nyse nio village farm international...</td>\n      <td>2020-01-15</td>\n      <td>Seeking Alpha</td>\n      <td>https://invst.ly/pifmv</td>\n      <td>2060249</td>\n      <td>2020-01-15</td>\n      <td>0.0</td>\n    </tr>\n    <tr>\n      <th>3</th>\n      <td>221518</td>\n      <td>NIO</td>\n      <td>NIO  NVAX among premarket gainers</td>\n      <td>news</td>\n      <td>cemtrex nasdaq cetx result fluent nasdaq flnt ...</td>\n      <td>2020-01-15</td>\n      <td>Seeking Alpha</td>\n      <td>https://invst.ly/picu8</td>\n      <td>2060039</td>\n      <td>2020-01-15</td>\n      <td>0.0</td>\n    </tr>\n    <tr>\n      <th>4</th>\n      <td>221519</td>\n      <td>NIO</td>\n      <td>PLUG  NIO among premarket gainers</td>\n      <td>news</td>\n      <td>atyr pharma nasdaq life kyorin pharma deal tow...</td>\n      <td>2020-01-06</td>\n      <td>Seeking Alpha</td>\n      <td>https://seekingalpha.com/news/3529772-plug-nio...</td>\n      <td>2053096</td>\n      <td>2020-01-06</td>\n      <td>1.0</td>\n    </tr>\n    <tr>\n      <th>5</th>\n      <td>221520</td>\n      <td>NIO</td>\n      <td>NIO leads consumer gainers  Origin Agritech on...</td>\n      <td>news</td>\n      <td>gainer nio nyse nio meritor nyse mtor eastman ...</td>\n      <td>2019-12-31</td>\n      <td>Seeking Alpha</td>\n      <td>https://seekingalpha.com/news/3528961-nio-lead...</td>\n      <td>2050524</td>\n      <td>2019-12-31</td>\n      <td>1.0</td>\n    </tr>\n    <tr>\n      <th>...</th>\n      <td>...</td>\n      <td>...</td>\n      <td>...</td>\n      <td>...</td>\n      <td>...</td>\n      <td>...</td>\n      <td>...</td>\n      <td>...</td>\n      <td>...</td>\n      <td>...</td>\n      <td>...</td>\n    </tr>\n    <tr>\n      <th>221498</th>\n      <td>443022</td>\n      <td>T</td>\n      <td>A Critical Metals Mixed Bag  Chris Ecclestone</td>\n      <td>opinion</td>\n      <td>flood company scrambled capitalize rare earth ...</td>\n      <td>2012-10-31</td>\n      <td>The Gold Report</td>\n      <td>https://www.investing.com/analysis/a-critical-...</td>\n      <td>141819</td>\n      <td>2012-10-31</td>\n      <td>1.0</td>\n    </tr>\n    <tr>\n      <th>221499</th>\n      <td>443023</td>\n      <td>T</td>\n      <td>Weighing The Week Ahead  Time For A Confidence...</td>\n      <td>opinion</td>\n      <td>everyone agrees economic recovery disappointin...</td>\n      <td>2012-09-24</td>\n      <td>Jeff Miller</td>\n      <td>https://www.investing.com/analysis/weighing-th...</td>\n      <td>137387</td>\n      <td>2012-09-24</td>\n      <td>1.0</td>\n    </tr>\n    <tr>\n      <th>221500</th>\n      <td>443024</td>\n      <td>T</td>\n      <td>Crude And Steel Still In Sync</td>\n      <td>opinion</td>\n      <td>reporting trade producer price index crude oil...</td>\n      <td>2012-10-04</td>\n      <td>Ivan Kitov</td>\n      <td>https://www.investing.com/analysis/crude-and-s...</td>\n      <td>138733</td>\n      <td>2012-10-04</td>\n      <td>0.0</td>\n    </tr>\n    <tr>\n      <th>221501</th>\n      <td>443025</td>\n      <td>T</td>\n      <td>Forget AT T  This Is The Telecom Stock You Sho...</td>\n      <td>opinion</td>\n      <td>largest cell phone provider world customer nys...</td>\n      <td>2012-05-30</td>\n      <td>StreetAuthority</td>\n      <td>https://www.investing.com/analysis/forget-at-t...</td>\n      <td>124829</td>\n      <td>2012-05-30</td>\n      <td>1.0</td>\n    </tr>\n    <tr>\n      <th>221502</th>\n      <td>443026</td>\n      <td>T</td>\n      <td>Wall Street Exposed   Part 3   How Dividends C...</td>\n      <td>opinion</td>\n      <td>dicuss mechanism dividend keep stock extension...</td>\n      <td>2012-07-16</td>\n      <td>Portfolio Cafe</td>\n      <td>https://www.investing.com/analysis/wall-street...</td>\n      <td>129651</td>\n      <td>2012-07-16</td>\n      <td>1.0</td>\n    </tr>\n  </tbody>\n</table>\n<p>200508 rows × 11 columns</p>\n</div>"
     },
     "execution_count": 26,
     "metadata": {},
     "output_type": "execute_result"
    }
   ],
   "source": [
    "pred_dataset = merged_df[merged_df['stock_increase'].notna()]\n",
    "pred_dataset"
   ]
  },
  {
   "cell_type": "markdown",
   "source": [
    "# Filter on AAPL in ticker column"
   ],
   "metadata": {
    "collapsed": false
   },
   "id": "41594b9efe1cb7b1"
  },
  {
   "cell_type": "code",
   "execution_count": 27,
   "outputs": [
    {
     "data": {
      "text/plain": "           id ticker                                              title  \\\n49181  270698   AAPL          JPMorgan cautious ahead of Apple earnings   \n49182  270699   AAPL        FAANG s Fall  but Get Some Wall Street Love   \n49183  270700   AAPL  Wall Street tumbles as virus fuels economic worry   \n49184  270701   AAPL  Earnings Watch  Apple and AMD to take earnings...   \n49185  270702   AAPL        Day Ahead  Top 3 Things to Watch for Jan 28   \n...       ...    ...                                                ...   \n69407  290924   AAPL               Waiting For Direction On The Markets   \n69408  290925   AAPL  Mid Year Update  U S  And Canadian Stock Marke...   \n69409  290926   AAPL               Summer Heat Scorches Europe And U S    \n69410  290927   AAPL     Apple Earnings Preview  Quarterly Dip On Deck    \n69411  290928   AAPL                         Trade Apple After Earnings   \n\n      category                                            content  \\\n49181     news  jpmorgan lift apple aapl target ahead tomorrow...   \n49182     news  kim khan investing com faang stock predictably...   \n49183     news  chuck mikolajczak new york reuters stock suffe...   \n49184     news  two best performing tech stock set report resu...   \n49185     news  yasin ebrahim kim khan apple ready earnings in...   \n...        ...                                                ...   \n69407  opinion  stock market difficult one trader investor ali...   \n69408  opinion  tsx index leading canadian stock outperformed ...   \n69409  opinion  europe flare summer heat continues summer heat...   \n69410  opinion  last quarter apple aapl reported best quarter ...   \n69411  opinion  may look like spider web mishmash trendlines m...   \n\n      release_date               provider  \\\n49181   2020-01-28          Seeking Alpha   \n49182   2020-01-28          Investing.com   \n49183   2020-01-28                Reuters   \n49184   2020-01-28            MarketWatch   \n49185   2020-01-28          Investing.com   \n...            ...                    ...   \n69407   2012-07-16                Cam Hui   \n69408   2012-07-19  Baskin Financial Blog   \n69409   2012-07-23           John Nyaradi   \n69410   2012-07-23             David Dyer   \n69411   2012-07-23      Abigail Doolittle   \n\n                                                     url  article_id  \\\n49181                             https://invst.ly/pnjv8     2068762   \n49182  https://www.investing.com/news/stock-market-ne...     2068765   \n49183  https://www.investing.com/news/stock-market-ne...     2068311   \n49184                             https://invst.ly/pnlbs     2068906   \n49185  https://www.investing.com/news/stock-market-ne...     2068907   \n...                                                  ...         ...   \n69407  https://www.investing.com/analysis/waiting-for...      129680   \n69408  https://www.investing.com/analysis/mid-year-up...      130056   \n69409  https://www.investing.com/analysis/summer-heat...      130439   \n69410  https://www.investing.com/analysis/apple-earni...      130458   \n69411  https://www.investing.com/analysis/trade-apple...      130440   \n\n            Date  stock_increase  \n49181 2020-01-28             1.0  \n49182 2020-01-28             1.0  \n49183 2020-01-28             1.0  \n49184 2020-01-28             1.0  \n49185 2020-01-28             1.0  \n...          ...             ...  \n69407 2012-07-16             1.0  \n69408 2012-07-19             1.0  \n69409 2012-07-23             1.0  \n69410 2012-07-23             1.0  \n69411 2012-07-23             1.0  \n\n[18072 rows x 11 columns]",
      "text/html": "<div>\n<style scoped>\n    .dataframe tbody tr th:only-of-type {\n        vertical-align: middle;\n    }\n\n    .dataframe tbody tr th {\n        vertical-align: top;\n    }\n\n    .dataframe thead th {\n        text-align: right;\n    }\n</style>\n<table border=\"1\" class=\"dataframe\">\n  <thead>\n    <tr style=\"text-align: right;\">\n      <th></th>\n      <th>id</th>\n      <th>ticker</th>\n      <th>title</th>\n      <th>category</th>\n      <th>content</th>\n      <th>release_date</th>\n      <th>provider</th>\n      <th>url</th>\n      <th>article_id</th>\n      <th>Date</th>\n      <th>stock_increase</th>\n    </tr>\n  </thead>\n  <tbody>\n    <tr>\n      <th>49181</th>\n      <td>270698</td>\n      <td>AAPL</td>\n      <td>JPMorgan cautious ahead of Apple earnings</td>\n      <td>news</td>\n      <td>jpmorgan lift apple aapl target ahead tomorrow...</td>\n      <td>2020-01-28</td>\n      <td>Seeking Alpha</td>\n      <td>https://invst.ly/pnjv8</td>\n      <td>2068762</td>\n      <td>2020-01-28</td>\n      <td>1.0</td>\n    </tr>\n    <tr>\n      <th>49182</th>\n      <td>270699</td>\n      <td>AAPL</td>\n      <td>FAANG s Fall  but Get Some Wall Street Love</td>\n      <td>news</td>\n      <td>kim khan investing com faang stock predictably...</td>\n      <td>2020-01-28</td>\n      <td>Investing.com</td>\n      <td>https://www.investing.com/news/stock-market-ne...</td>\n      <td>2068765</td>\n      <td>2020-01-28</td>\n      <td>1.0</td>\n    </tr>\n    <tr>\n      <th>49183</th>\n      <td>270700</td>\n      <td>AAPL</td>\n      <td>Wall Street tumbles as virus fuels economic worry</td>\n      <td>news</td>\n      <td>chuck mikolajczak new york reuters stock suffe...</td>\n      <td>2020-01-28</td>\n      <td>Reuters</td>\n      <td>https://www.investing.com/news/stock-market-ne...</td>\n      <td>2068311</td>\n      <td>2020-01-28</td>\n      <td>1.0</td>\n    </tr>\n    <tr>\n      <th>49184</th>\n      <td>270701</td>\n      <td>AAPL</td>\n      <td>Earnings Watch  Apple and AMD to take earnings...</td>\n      <td>news</td>\n      <td>two best performing tech stock set report resu...</td>\n      <td>2020-01-28</td>\n      <td>MarketWatch</td>\n      <td>https://invst.ly/pnlbs</td>\n      <td>2068906</td>\n      <td>2020-01-28</td>\n      <td>1.0</td>\n    </tr>\n    <tr>\n      <th>49185</th>\n      <td>270702</td>\n      <td>AAPL</td>\n      <td>Day Ahead  Top 3 Things to Watch for Jan 28</td>\n      <td>news</td>\n      <td>yasin ebrahim kim khan apple ready earnings in...</td>\n      <td>2020-01-28</td>\n      <td>Investing.com</td>\n      <td>https://www.investing.com/news/stock-market-ne...</td>\n      <td>2068907</td>\n      <td>2020-01-28</td>\n      <td>1.0</td>\n    </tr>\n    <tr>\n      <th>...</th>\n      <td>...</td>\n      <td>...</td>\n      <td>...</td>\n      <td>...</td>\n      <td>...</td>\n      <td>...</td>\n      <td>...</td>\n      <td>...</td>\n      <td>...</td>\n      <td>...</td>\n      <td>...</td>\n    </tr>\n    <tr>\n      <th>69407</th>\n      <td>290924</td>\n      <td>AAPL</td>\n      <td>Waiting For Direction On The Markets</td>\n      <td>opinion</td>\n      <td>stock market difficult one trader investor ali...</td>\n      <td>2012-07-16</td>\n      <td>Cam Hui</td>\n      <td>https://www.investing.com/analysis/waiting-for...</td>\n      <td>129680</td>\n      <td>2012-07-16</td>\n      <td>1.0</td>\n    </tr>\n    <tr>\n      <th>69408</th>\n      <td>290925</td>\n      <td>AAPL</td>\n      <td>Mid Year Update  U S  And Canadian Stock Marke...</td>\n      <td>opinion</td>\n      <td>tsx index leading canadian stock outperformed ...</td>\n      <td>2012-07-19</td>\n      <td>Baskin Financial Blog</td>\n      <td>https://www.investing.com/analysis/mid-year-up...</td>\n      <td>130056</td>\n      <td>2012-07-19</td>\n      <td>1.0</td>\n    </tr>\n    <tr>\n      <th>69409</th>\n      <td>290926</td>\n      <td>AAPL</td>\n      <td>Summer Heat Scorches Europe And U S</td>\n      <td>opinion</td>\n      <td>europe flare summer heat continues summer heat...</td>\n      <td>2012-07-23</td>\n      <td>John Nyaradi</td>\n      <td>https://www.investing.com/analysis/summer-heat...</td>\n      <td>130439</td>\n      <td>2012-07-23</td>\n      <td>1.0</td>\n    </tr>\n    <tr>\n      <th>69410</th>\n      <td>290927</td>\n      <td>AAPL</td>\n      <td>Apple Earnings Preview  Quarterly Dip On Deck</td>\n      <td>opinion</td>\n      <td>last quarter apple aapl reported best quarter ...</td>\n      <td>2012-07-23</td>\n      <td>David Dyer</td>\n      <td>https://www.investing.com/analysis/apple-earni...</td>\n      <td>130458</td>\n      <td>2012-07-23</td>\n      <td>1.0</td>\n    </tr>\n    <tr>\n      <th>69411</th>\n      <td>290928</td>\n      <td>AAPL</td>\n      <td>Trade Apple After Earnings</td>\n      <td>opinion</td>\n      <td>may look like spider web mishmash trendlines m...</td>\n      <td>2012-07-23</td>\n      <td>Abigail Doolittle</td>\n      <td>https://www.investing.com/analysis/trade-apple...</td>\n      <td>130440</td>\n      <td>2012-07-23</td>\n      <td>1.0</td>\n    </tr>\n  </tbody>\n</table>\n<p>18072 rows × 11 columns</p>\n</div>"
     },
     "execution_count": 27,
     "metadata": {},
     "output_type": "execute_result"
    }
   ],
   "source": [
    "pred_dataset_aapl = pred_dataset[pred_dataset['ticker'] == 'AAPL']\n",
    "pred_dataset_aapl"
   ],
   "metadata": {
    "collapsed": false,
    "ExecuteTime": {
     "end_time": "2023-10-19T16:59:10.367770900Z",
     "start_time": "2023-10-19T16:59:10.331104100Z"
    }
   },
   "id": "ade03f32475c2ba2"
  },
  {
   "cell_type": "markdown",
   "source": [
    "# Save dataframe to CSV"
   ],
   "metadata": {
    "collapsed": false
   },
   "id": "c4146e63"
  },
  {
   "cell_type": "code",
   "execution_count": 28,
   "id": "c8aedd6f",
   "metadata": {
    "pycharm": {
     "name": "#%%\n"
    },
    "ExecuteTime": {
     "end_time": "2023-10-19T16:59:23.081121Z",
     "start_time": "2023-10-19T16:59:21.959922900Z"
    }
   },
   "outputs": [],
   "source": [
    "pred_dataset_aapl.to_csv('../data/prediction_data_aapl.csv')"
   ]
  }
 ],
 "metadata": {
  "kernelspec": {
   "display_name": "Python 3 (ipykernel)",
   "language": "python",
   "name": "python3"
  },
  "language_info": {
   "codemirror_mode": {
    "name": "ipython",
    "version": 3
   },
   "file_extension": ".py",
   "mimetype": "text/x-python",
   "name": "python",
   "nbconvert_exporter": "python",
   "pygments_lexer": "ipython3",
   "version": "3.8.18"
  }
 },
 "nbformat": 4,
 "nbformat_minor": 5
}
