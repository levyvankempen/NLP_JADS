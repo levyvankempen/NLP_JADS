{
 "cells": [
  {
   "cell_type": "code",
   "execution_count": 1,
   "outputs": [
    {
     "name": "stderr",
     "output_type": "stream",
     "text": [
      "[nltk_data] Downloading package stopwords to\n",
      "[nltk_data]     C:\\Users\\20182877\\AppData\\Roaming\\nltk_data...\n",
      "[nltk_data]   Package stopwords is already up-to-date!\n",
      "[nltk_data] Downloading package wordnet to\n",
      "[nltk_data]     C:\\Users\\20182877\\AppData\\Roaming\\nltk_data...\n",
      "[nltk_data]   Package wordnet is already up-to-date!\n"
     ]
    },
    {
     "data": {
      "text/plain": "True"
     },
     "execution_count": 1,
     "metadata": {},
     "output_type": "execute_result"
    }
   ],
   "source": [
    "#import packages\n",
    "import pandas as pd\n",
    "import nltk\n",
    "from nltk.tokenize import word_tokenize\n",
    "from gensim.models import Word2Vec\n",
    "import re\n",
    "from nltk.stem import WordNetLemmatizer\n",
    "from nltk.corpus import stopwords\n",
    "from typing import List\n",
    "from sklearn.model_selection import train_test_split\n",
    "import numpy as np\n",
    "\n",
    "# If you haven't already, you'll need to download these resources.\n",
    "nltk.download('stopwords')\n",
    "nltk.download('wordnet')"
   ],
   "metadata": {
    "collapsed": false
   }
  },
  {
   "cell_type": "code",
   "execution_count": 2,
   "outputs": [],
   "source": [
    "#import data\n",
    "prediction_df = pd.read_csv('../data/prediction_data_aapl.csv')"
   ],
   "metadata": {
    "collapsed": false
   }
  },
  {
   "cell_type": "code",
   "execution_count": 3,
   "outputs": [],
   "source": [
    "#preprocess dataframe such that the text of column \"content\" is a list of strings instead of normal letters.\n",
    "\n",
    "def preprocess_dataframe_content(df: pd.DataFrame) -> List[List[str]]:\n",
    "    \"\"\"\n",
    "    Preprocesses each entry in the 'content' column of the given DataFrame by:\n",
    "    - Lowercasing\n",
    "    - Keeping only alphabetic characters\n",
    "    - Removing stopwords\n",
    "    - Lemmatizing\n",
    "    - Filtering out words with length less than 3\n",
    "    Tokenizes the preprocessed entry into a list of words.\n",
    "    Returns a list of lists where each inner list is a tokenized and preprocessed entry from the\n",
    "    'content' column of the DataFrame.\n",
    "\n",
    "    Parameters:\n",
    "    - df (pd.DataFrame): The DataFrame containing the 'content' column to be processed.\n",
    "\n",
    "    Returns:\n",
    "    - list: A list of lists, where each inner list is a tokenized and preprocessed entry from the\n",
    "    'content' column of the DataFrame.\n",
    "    \"\"\"\n",
    "    # Prepare lemmatizer and stopwords list\n",
    "    lemmatizer = WordNetLemmatizer()\n",
    "    stop_words = set(stopwords.words('english'))\n",
    "\n",
    "    # Preprocess the content\n",
    "    processed_content = []\n",
    "    for content in df['content']:\n",
    "        # Keep only alphabetic characters and lowercased\n",
    "        tokens = re.sub('[^a-zA-Z\\s]', '', content.lower().strip()).split()\n",
    "        # Remove stopwords and short words, and lemmatize\n",
    "        tokens = [lemmatizer.lemmatize(word) for word in tokens if word not in stop_words and len(word) >= 3]\n",
    "        processed_content.append(tokens)\n",
    "\n",
    "    return processed_content\n"
   ],
   "metadata": {
    "collapsed": false
   }
  },
  {
   "cell_type": "code",
   "execution_count": 4,
   "outputs": [],
   "source": [
    "#preprocess the prediction data\n",
    "prep_pred_data = preprocess_dataframe_content(prediction_df)"
   ],
   "metadata": {
    "collapsed": false
   }
  },
  {
   "cell_type": "markdown",
   "source": [
    "## Create Cbow and Skip gram with vectors = 100"
   ],
   "metadata": {
    "collapsed": false
   }
  },
  {
   "cell_type": "code",
   "execution_count": 5,
   "outputs": [],
   "source": [
    "#Given a context, predict a word --> kun je doen met context naar increase/decrease maar lijkt me ver gezocht\n",
    "cbow_model = Word2Vec(sentences = prep_pred_data,\n",
    "                      vector_size = 100,\n",
    "                      window = 5,\n",
    "                      min_count = 1,\n",
    "                      sg = 0) #sg=0 means Cbow, sg=1 means skipgram"
   ],
   "metadata": {
    "collapsed": false
   }
  },
  {
   "cell_type": "code",
   "execution_count": 6,
   "outputs": [],
   "source": [
    "#Given a word, predict the context --> given apple, predict what the news will say\n",
    "skip_model = Word2Vec(sentences = prep_pred_data,\n",
    "                      vector_size = 100,\n",
    "                      window = 5,\n",
    "                      min_count = 1,\n",
    "                      sg = 1) #sg=0 means Cbow, sg=1 means skipgram"
   ],
   "metadata": {
    "collapsed": false
   }
  },
  {
   "cell_type": "code",
   "execution_count": 7,
   "outputs": [],
   "source": [
    "skip_model.save(\"skip_model\")\n",
    "cbow_model.save(\"cbow_model\")"
   ],
   "metadata": {
    "collapsed": false
   }
  },
  {
   "cell_type": "markdown",
   "source": [
    "## Create Cbow and Skip gram with vectors = 300"
   ],
   "metadata": {
    "collapsed": false
   }
  },
  {
   "cell_type": "code",
   "execution_count": 8,
   "outputs": [],
   "source": [
    "#Given a context, predict a word --> kun je doen met context naar increase/decrease maar lijkt me ver gezocht\n",
    "cbow_model_300 = Word2Vec(sentences = prep_pred_data,\n",
    "                      vector_size = 300,\n",
    "                      window = 5,\n",
    "                      min_count = 1,\n",
    "                      sg = 0)  #sg=0 means Cbow, sg=1 means skipgram\n",
    "\n",
    "#Given a word, predict the context --> given apple, predict what the news will say\n",
    "skip_model_300 = Word2Vec(sentences = prep_pred_data,\n",
    "                      vector_size = 300,\n",
    "                      window = 5,\n",
    "                      min_count = 1,\n",
    "                      sg = 1)  #sg=0 means Cbow, sg=1 means skipgram\n",
    "\n",
    "skip_model_300.save(\"skip_model_300\")\n",
    "cbow_model_300.save(\"cbow_model_300\")"
   ],
   "metadata": {
    "collapsed": false
   }
  },
  {
   "cell_type": "markdown",
   "source": [
    "## Create cbow and skip gram with min_count 2"
   ],
   "metadata": {
    "collapsed": false
   }
  },
  {
   "cell_type": "code",
   "execution_count": 9,
   "outputs": [],
   "source": [
    "#min_count is the minimum amount of times a word has to appear to be considered in the data\n",
    "cbow_model_2min = Word2Vec(sentences = prep_pred_data,\n",
    "                      vector_size = 300,\n",
    "                      window = 5,\n",
    "                      min_count = 2,\n",
    "                      sg = 0)  #sg=0 means Cbow, sg=1 means skipgram\n",
    "\n",
    "#skipgram\n",
    "skip_model_2min = Word2Vec(sentences = prep_pred_data,\n",
    "                      vector_size = 300,\n",
    "                      window = 5,\n",
    "                      min_count = 2,\n",
    "                      sg = 1)  #sg=0 means Cbow, sg=1 means skipgram\n",
    "\n",
    "skip_model_2min.save(\"skip_model_2min\")\n",
    "cbow_model_2min.save(\"cbow_model_2min\")"
   ],
   "metadata": {
    "collapsed": false
   }
  },
  {
   "cell_type": "code",
   "execution_count": 10,
   "outputs": [
    {
     "data": {
      "text/plain": "   Unnamed: 0      id ticker  \\\n0       49181  270698   AAPL   \n1       49182  270699   AAPL   \n2       49183  270700   AAPL   \n3       49184  270701   AAPL   \n4       49185  270702   AAPL   \n\n                                               title category  \\\n0          JPMorgan cautious ahead of Apple earnings     news   \n1        FAANG s Fall  but Get Some Wall Street Love     news   \n2  Wall Street tumbles as virus fuels economic worry     news   \n3  Earnings Watch  Apple and AMD to take earnings...     news   \n4        Day Ahead  Top 3 Things to Watch for Jan 28     news   \n\n                                             content release_date  \\\n0  jpmorgan lift apple aapl target ahead tomorrow...   2020-01-28   \n1  kim khan investing com faang stock predictably...   2020-01-28   \n2  chuck mikolajczak new york reuters stock suffe...   2020-01-28   \n3  two best performing tech stock set report resu...   2020-01-28   \n4  yasin ebrahim kim khan apple ready earnings in...   2020-01-28   \n\n        provider                                                url  \\\n0  Seeking Alpha                             https://invst.ly/pnjv8   \n1  Investing.com  https://www.investing.com/news/stock-market-ne...   \n2        Reuters  https://www.investing.com/news/stock-market-ne...   \n3    MarketWatch                             https://invst.ly/pnlbs   \n4  Investing.com  https://www.investing.com/news/stock-market-ne...   \n\n   article_id        Date  stock_increase  \n0     2068762  2020-01-28             1.0  \n1     2068765  2020-01-28             1.0  \n2     2068311  2020-01-28             1.0  \n3     2068906  2020-01-28             1.0  \n4     2068907  2020-01-28             1.0  ",
      "text/html": "<div>\n<style scoped>\n    .dataframe tbody tr th:only-of-type {\n        vertical-align: middle;\n    }\n\n    .dataframe tbody tr th {\n        vertical-align: top;\n    }\n\n    .dataframe thead th {\n        text-align: right;\n    }\n</style>\n<table border=\"1\" class=\"dataframe\">\n  <thead>\n    <tr style=\"text-align: right;\">\n      <th></th>\n      <th>Unnamed: 0</th>\n      <th>id</th>\n      <th>ticker</th>\n      <th>title</th>\n      <th>category</th>\n      <th>content</th>\n      <th>release_date</th>\n      <th>provider</th>\n      <th>url</th>\n      <th>article_id</th>\n      <th>Date</th>\n      <th>stock_increase</th>\n    </tr>\n  </thead>\n  <tbody>\n    <tr>\n      <th>0</th>\n      <td>49181</td>\n      <td>270698</td>\n      <td>AAPL</td>\n      <td>JPMorgan cautious ahead of Apple earnings</td>\n      <td>news</td>\n      <td>jpmorgan lift apple aapl target ahead tomorrow...</td>\n      <td>2020-01-28</td>\n      <td>Seeking Alpha</td>\n      <td>https://invst.ly/pnjv8</td>\n      <td>2068762</td>\n      <td>2020-01-28</td>\n      <td>1.0</td>\n    </tr>\n    <tr>\n      <th>1</th>\n      <td>49182</td>\n      <td>270699</td>\n      <td>AAPL</td>\n      <td>FAANG s Fall  but Get Some Wall Street Love</td>\n      <td>news</td>\n      <td>kim khan investing com faang stock predictably...</td>\n      <td>2020-01-28</td>\n      <td>Investing.com</td>\n      <td>https://www.investing.com/news/stock-market-ne...</td>\n      <td>2068765</td>\n      <td>2020-01-28</td>\n      <td>1.0</td>\n    </tr>\n    <tr>\n      <th>2</th>\n      <td>49183</td>\n      <td>270700</td>\n      <td>AAPL</td>\n      <td>Wall Street tumbles as virus fuels economic worry</td>\n      <td>news</td>\n      <td>chuck mikolajczak new york reuters stock suffe...</td>\n      <td>2020-01-28</td>\n      <td>Reuters</td>\n      <td>https://www.investing.com/news/stock-market-ne...</td>\n      <td>2068311</td>\n      <td>2020-01-28</td>\n      <td>1.0</td>\n    </tr>\n    <tr>\n      <th>3</th>\n      <td>49184</td>\n      <td>270701</td>\n      <td>AAPL</td>\n      <td>Earnings Watch  Apple and AMD to take earnings...</td>\n      <td>news</td>\n      <td>two best performing tech stock set report resu...</td>\n      <td>2020-01-28</td>\n      <td>MarketWatch</td>\n      <td>https://invst.ly/pnlbs</td>\n      <td>2068906</td>\n      <td>2020-01-28</td>\n      <td>1.0</td>\n    </tr>\n    <tr>\n      <th>4</th>\n      <td>49185</td>\n      <td>270702</td>\n      <td>AAPL</td>\n      <td>Day Ahead  Top 3 Things to Watch for Jan 28</td>\n      <td>news</td>\n      <td>yasin ebrahim kim khan apple ready earnings in...</td>\n      <td>2020-01-28</td>\n      <td>Investing.com</td>\n      <td>https://www.investing.com/news/stock-market-ne...</td>\n      <td>2068907</td>\n      <td>2020-01-28</td>\n      <td>1.0</td>\n    </tr>\n  </tbody>\n</table>\n</div>"
     },
     "execution_count": 10,
     "metadata": {},
     "output_type": "execute_result"
    }
   ],
   "source": [
    "prediction_df.head()"
   ],
   "metadata": {
    "collapsed": false
   }
  },
  {
   "cell_type": "code",
   "execution_count": 11,
   "outputs": [
    {
     "data": {
      "text/plain": "array(['Seeking Alpha', 'Investing.com', 'Reuters', 'MarketWatch', 'CNBC',\n       'Zacks Investment Research', 'Brian Gilmartin', '247wallst',\n       'Michael Kramer', 'Haris Anwar/Investing.com', 'Keith Fitz-Gerald',\n       'Ed Moya', 'Fiona Cincotta', 'The Motley Fool',\n       'Jesse Cohen/Investing.com', 'Marc Chandler', 'Lance Roberts',\n       'Bloomberg', 'Cointelegraph', 'Jeffrey Halley', 'Tim Knight',\n       'Charles Hugh Smith', 'Jani Ziedins', 'TipRanks', 'Brett Owens',\n       'Michael Foster', 'Boris Schlossberg',\n       'Pinchas Cohen/Investing.com', 'Bitcoinist', 'Craig Erlam',\n       'Kathy Lien', 'JJ Kinahan', 'Jay Kaeppel', 'Michael Pento',\n       'Ryan Mallory', 'Candy Matheson', 'David I. Kranzler',\n       'Stephen Innes', 'Hale Stewart', 'Harry Dent', 'Matt Simpson',\n       'Barani Krishnan/Investing.com', 'Matthew Weller', 'Adam Hamilton',\n       'Thinknum', 'Juan Maldonado', 'Dan Flynn', 'London Capital Group',\n       'Stephen McBride', 'Alexander Kuptsikevich', 'Andrew Robinson',\n       'Chris Kimble', 'Euronews', 'Economics Global', 'Edison',\n       'Gareth Soloway', 'Gregory W. Harmon', 'Ivaylo Ivanhoff',\n       'Aswath Damodaran', 'IFC Markets', 'Chuck Carnevale', 'MetalMiner',\n       'Robert Ross', 'Business Insider', 'Cryptovest',\n       'Bell Ringers/Investing.com ', 'Clement Thibault/Investing.com ',\n       'TD Ameritrade', 'FX Street', 'Deron Wagner', 'Paul Rejczak',\n       'RealVision', 'Danske Markets', 'Alfonso Esparza', 'Anna Coulling',\n       'EWM Interactive', 'Money Show', 'Chris Weston',\n       'Joshua Fruhlinger', 'Bill Poulos', 'CoinDesk',\n       'Mike (Mish) Shedlock', 'Kurt Cobb', 'Blaine Rollins',\n       'Nicholas Santiago', 'Legal & General Investment Management',\n       'James Picerno', 'Nicholas Maithya',\n       \"Schaeffer's Investment Research\", 'Jeff Miller', 'iFOREX',\n       'Darrell Delamaide/Investing.com', 'Michael T. Snyder',\n       'Avi Gilburt', 'ETF Daily News', 'Jeb Handwerger',\n       'Troy Bombardia', 'Charley Blaine/Investing.com', 'David Kass',\n       'Satendra Singh', 'Steve Miller', 'ForexTime', 'Dean Popplewell',\n       'Ivan Delgado', 'Mati Greenspan', 'Piyush Arora', 'Harry Boxer',\n       'Dawn richard', 'Blog of HORAN Capital Advisors', 'Crowdability',\n       'Iliya Zaki Bin Aziz', 'Kiran Shroff', 'Modest Money',\n       'Kristján Gunnarsson', 'James Brumley', 'Phoenix Capital Research',\n       'Kay Kim', 'JFD Team', 'Naeem Aslam', 'Mike Paulenoff',\n       'EconMatters', 'Kenny Fisher', 'John Coumarianos', 'Alex Newman',\n       'Dr. Duru', 'Ashraf Laidi', 'CNA Finance', 'Paban Pandey',\n       'Declan Fallon', 'Andre Gratian', 'ORBEX', 'Phil Flynn',\n       'Andrew Thrasher', 'MarketPulse', 'MyFXspot research',\n       'Jeremy Cook', 'BeInCrypto', 'Petros Steriotis', 'Gary Gordon',\n       'ActionForex', 'Chris Vermeulen', 'Scott Martindale', 'Iris Pang',\n       'Tony Daltorio', 'Vitaliy Katsenelson', 'Stavros Georgiadis',\n       'Clive Maund', 'Robert B. Reich', 'Jan Hortebusch', 'IG',\n       'Covesting Research', 'Wade Slome', 'FX Recommends', 'Al Brooks',\n       'Investingmoney.biz', 'Howard Goldstein', 'Ed Yardeni',\n       'Frank Holmes', 'Pater Tenebrarum', 'Faizan Raza',\n       'AMarkets Company', 'Danny Riley', 'Anthony M. Cherniawski',\n       'Viktor Shpakovsky', 'Paul Farrugia', 'Bryan Bourgeois',\n       'Ellen R. Wald, Ph.D.', 'Joshua Paul', 'Vishesh Raisinghani',\n       'Puneet Sikka', 'Amram Margalit', 'The Gold Report',\n       'Adem Tumerkan', 'Dmitry Karlov Jarsky', 'Rakuten Sec Australia',\n       'Steve Hach', 'Estimize', 'XM Group', 'David Trainer', 'LiteForex',\n       'Jesse Felder', 'Yale Bock', 'trade 12', 'Tim Shirata',\n       'Elliott Wave Forecast', 'Trade12', 'Tanzeel Akhtar/Investing.com',\n       'Ed Anderson', 'FinanceMagnates', 'Kiana Danial', 'Todd Sullivan',\n       'ValueWalk', 'International Business Times', 'Dr. Duke',\n       'Stephen Loke', 'Peter Morici', 'Keith Weiner', 'Steve Saville',\n       'Ticker.tv News', 'MrTopStep', 'KraneShares', 'Alan Bradley',\n       'Marvin Clark', 'David Fabian', 'Chris Marcus', 'Louis Basenese',\n       'Santa Zvaigzne', 'Ara Zohrabian', 'Arkadiusz Sieron',\n       'Warrior Trading', 'Mark Mead Baillie', 'David Kotok',\n       'Sarah Potter', 'Chris Ciovacco', 'Scott Krisiloff',\n       'Luis Aureliano', 'Ipek Ozkardeskaya', 'AvaTrade',\n       'Charles Sizemore', 'Jesus Aldana', 'David Koh', 'Eric De Groot',\n       'Investment U', 'Brenda Jubin',\n       'Alhambra Investment Partners, LLC', 'Joseph L. Shaefer',\n       'Wall Street Daily', 'Finbox io', 'Justin Smyth', 'Warren Bevan',\n       'Gary Christenson', 'John Mousseau', 'Gary Tanashian',\n       'Jenny Rebekka', 'Taki Tsaklanos', 'Joe Marwood',\n       'Cumberland Advisors', 'MarketBeat.com', 'Sol Palha', 'Clif Droke',\n       'The National Bank of Canada', 'Gregory Blotnick', 'Jason Hope',\n       'FSM News', 'Matthew Carr', 'Joshua Rodriguez',\n       'Verified Investing', 'Stefan Gleason', 'TradingBanks',\n       'Jesse Boskoff', 'Scott Fearon', 'BRUEGEL', 'Kevin Flynn',\n       'Arnout Ter Schure', 'Brian Bollinger', 'Jack Steiman',\n       'Terry Tran', 'AG Thorson', 'Elliott Wave Forecast ', 'Trader Moe',\n       'Growth Aces', 'Evgeny Ilyukhin', 'Doug Short', 'Ben Reynolds',\n       'MXTrade', 'George Dorgan', 'InvestCorrectly', 'Urban Carmel',\n       'Ivan Beljan', 'Peter Brandt', 'Philip Davis',\n       'Ridge Capital Markets', 'John Rubino', 'Alpari', 'Dane Williams',\n       'Peter C. Kenny', 'Alexandros Yfantis', 'Markus Gabel',\n       'AllAboutAlpha', 'António Costa', 'Volatility Analytics Inc',\n       'Blog of HORAN Capital Advisors ', 'Daniel Sesay', 'OptionsClick',\n       'David Brown', 'Richard Shaw', 'Macro Ops', 'Steve Walker',\n       'The Non-Consensus', 'Kiril Lebedev', 'Robert Irr',\n       'Michael Gouvalaris', 'CMTrading', 'Panayiotis Miltiadous',\n       'IronFX Strategy Team', 'Peter Thomas', 'ICM Brokers',\n       'TechniTrader Stock Market Education', 'Max Ganik', 'Gary Savage',\n       'Bob Eisenbeis', 'Imperial Options', 'Cam Hui', 'Dailyfx',\n       'Alexander Green', 'The Night Owl Trader', 'Carly Forster',\n       'Sarah Roden', 'Arnaldo Luiz Correa', 'John Aziz', 'Roni Stern',\n       'Stewart Thomson', 'Neal Gilbert', 'Sinisa Persic, CMT',\n       'Gary Hunt', 'John van der Munnik', 'Saxo Bank', 'Tommy Humphreys',\n       'Tradeview Forex', 'Robert Williams', 'Anni V_', 'Andrew Nyquist',\n       'Uri Gruenbaum', 'FX77', 'Justin Simon', 'Razvan Podariu',\n       'Syncubate', 'Masterforex-V', 'Alan Gula', 'Patrick Foot',\n       'Michael Filighera', 'Alex Gurr', 'Jay Goldman', 'Tiho Brkan',\n       'AmigoBulls', 'Easy Forex', 'Tech Talk', 'Ben Myers',\n       'EconMatters ', 'Bob Lang', 'Midnight Trader',\n       'Baskin Financial Blog', 'Erik Swarts',\n       'Billionairies Portfolio billionairesportfolio.com',\n       'Commodity Trade Mantra', 'Marty Biancuzzo', 'Scott Matusow',\n       'Mitchell Clark', 'In The Money Stocks', 'Richard Cox',\n       'Joe Donohue', 'LiteForex Europe', 'Marketprog', 'Jae Jun',\n       'Trading WithWaves', 'Benzinga', 'John Nyaradi', 'Gary Dorsch',\n       'Doug Eberhardt', 'Jim Makos', 'Richard Rhodes', 'George Leong',\n       'StockTradingToGo', 'James Chen', 'Lara Iriarte', 'Adam Hewison',\n       'John B.', 'Benzinga ', 'Martin Kay', 'Mingze Wu', 'Shmulik Karpf',\n       'Dividend Yield', 'Ophir Gottlieb', 'Abhijit Sen', 'Stuart McPhee',\n       'Michael Ashton', 'ETF Prophet', 'Jennifer Lynn', 'Rick Ackerman',\n       'Ed Dolan', 'Ravee Mehta', 'John Mylant', 'The Energy Report',\n       'Tom Davidson', 'Nick Mastrandrea', 'Larry Doyle', 'Sober Look',\n       'PikerTrader', 'Stocks on Wall Street', 'UFXMarkets',\n       'Stock Option Assassin', 'Todd Sohayda', 'Jason Sen',\n       'David M. Frank', 'Amar Daryanani', 'David Dyer', '4XP',\n       'James Hyerczyk', 'BB Finance Blog', 'Binary Options Strategy',\n       \"Mark O'Byrne\", 'Paul Nathan', 'Bruce Krasting',\n       'Charles Biderman', 'Helix Investment Management',\n       'Matthew Bradbard', 'Marcus Holland', 'Double Dividend Stocks',\n       'Contextuall', 'High Chart Patterns', 'Jesse Colombo',\n       'Portfolio Cafe', 'Mercenary Trader', 'Epsilon', 'Andrew Sachais',\n       'Frank Zorrilla', 'Tradesight', 'J.W. Jones', 'Abigail Doolittle',\n       'Dara Albright', 'Patrick Chovanec'], dtype=object)"
     },
     "execution_count": 11,
     "metadata": {},
     "output_type": "execute_result"
    }
   ],
   "source": [
    "# Method 1: Using the 'unique' method\n",
    "unique_values = prediction_df['provider'].unique()\n",
    "unique_values"
   ],
   "metadata": {
    "collapsed": false
   }
  },
  {
   "cell_type": "code",
   "execution_count": 12,
   "outputs": [
    {
     "name": "stdout",
     "output_type": "stream",
     "text": [
      "Bloomberg is in the unique list.\n"
     ]
    }
   ],
   "source": [
    "# Name you want to check for\n",
    "name_to_check = \"Bloomberg\"\n",
    "\n",
    "# Check if the name is in the unique list\n",
    "if name_to_check in unique_values:\n",
    "    print(f\"{name_to_check} is in the unique list.\")\n",
    "else:\n",
    "    print(f\"{name_to_check} is not in the unique list.\")"
   ],
   "metadata": {
    "collapsed": false
   }
  },
  {
   "cell_type": "markdown",
   "source": [],
   "metadata": {
    "collapsed": false
   }
  }
 ],
 "metadata": {
  "kernelspec": {
   "display_name": "Python 3",
   "language": "python",
   "name": "python3"
  },
  "language_info": {
   "codemirror_mode": {
    "name": "ipython",
    "version": 2
   },
   "file_extension": ".py",
   "mimetype": "text/x-python",
   "name": "python",
   "nbconvert_exporter": "python",
   "pygments_lexer": "ipython2",
   "version": "2.7.6"
  }
 },
 "nbformat": 4,
 "nbformat_minor": 0
}
